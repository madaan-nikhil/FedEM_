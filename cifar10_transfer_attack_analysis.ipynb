{
 "cells": [
  {
   "cell_type": "code",
   "execution_count": 1,
   "metadata": {},
   "outputs": [],
   "source": [
    "# Import General Libraries\n",
    "import os\n",
    "import argparse\n",
    "import torch\n",
    "import copy\n",
    "import pickle\n",
    "import random\n",
    "import numpy as np\n",
    "import pandas as pd\n",
    "\n",
    "# Import FedEM based Libraries\n",
    "from utils.utils import *\n",
    "from utils.constants import *\n",
    "from utils.args import *\n",
    "from run_experiment import *\n",
    "from models import *\n",
    "\n",
    "# Import Transfer Attack\n",
    "from transfer_attacks.Personalized_NN import *\n",
    "from transfer_attacks.Params import *\n",
    "from transfer_attacks.Transferer import *\n",
    "from transfer_attacks.Args import *\n",
    "from transfer_attacks.TA_utils import *\n",
    "from transfer_attacks.Boundary_Transferer import *"
   ]
  },
  {
   "cell_type": "code",
   "execution_count": 81,
   "metadata": {},
   "outputs": [
    {
     "name": "stdout",
     "output_type": "stream",
     "text": [
      "==> Clients initialization..\n",
      "===> Building data iterators..\n"
     ]
    },
    {
     "name": "stderr",
     "output_type": "stream",
     "text": [
      "100%|██████████| 80/80 [00:00<00:00, 316.99it/s]\n"
     ]
    },
    {
     "name": "stdout",
     "output_type": "stream",
     "text": [
      "===> Initializing clients..\n"
     ]
    },
    {
     "name": "stderr",
     "output_type": "stream",
     "text": [
      "100%|██████████| 80/80 [00:09<00:00,  8.20it/s]\n"
     ]
    },
    {
     "name": "stdout",
     "output_type": "stream",
     "text": [
      "==> Test Clients initialization..\n",
      "===> Building data iterators..\n"
     ]
    },
    {
     "name": "stderr",
     "output_type": "stream",
     "text": [
      "0it [00:00, ?it/s]\n"
     ]
    },
    {
     "name": "stdout",
     "output_type": "stream",
     "text": [
      "===> Initializing clients..\n"
     ]
    },
    {
     "name": "stderr",
     "output_type": "stream",
     "text": [
      "0it [00:00, ?it/s]\n"
     ]
    },
    {
     "name": "stdout",
     "output_type": "stream",
     "text": [
      "++++++++++++++++++++++++++++++\n",
      "Global..\n",
      "Train Loss: 2.297 | Train Acc: 10.806% |Test Loss: 2.299 | Test Acc: 10.238% |\n",
      "++++++++++++++++++++++++++++++++++++++++++++++++++\n",
      "################################################################################\n"
     ]
    }
   ],
   "source": [
    "# Generating Empty Aggregator to be loaded \n",
    "\n",
    "setting = 'FedAvg'\n",
    "\n",
    "if setting == 'FedEM':\n",
    "    nL = 3\n",
    "else:\n",
    "    nL = 1\n",
    "\n",
    "# Manually set argument parameters\n",
    "args_ = Args()\n",
    "args_.experiment = \"cifar10\"\n",
    "args_.method = setting\n",
    "args_.decentralized = False\n",
    "args_.sampling_rate = 1.0\n",
    "args_.input_dimension = None\n",
    "args_.output_dimension = None\n",
    "args_.n_learners= nL\n",
    "args_.n_rounds = 10\n",
    "args_.bz = 128\n",
    "args_.local_steps = 1\n",
    "args_.lr_lambda = 0\n",
    "args_.lr =0.03\n",
    "args_.lr_scheduler = 'multi_step'\n",
    "args_.log_freq = 10\n",
    "args_.device = 'cuda'\n",
    "args_.optimizer = 'sgd'\n",
    "args_.mu = 0\n",
    "args_.communication_probability = 0.1\n",
    "args_.q = 1\n",
    "args_.locally_tune_clients = False\n",
    "args_.seed = 1234\n",
    "args_.verbose = 1\n",
    "args_.save_path = 'weights/cifar10/unlearning/None/adv_usr_0/'\n",
    "args_.validation = False\n",
    "args_.tune_steps = False\n",
    "args_.aggregation_op = None\n",
    "\n",
    "# Generate the dummy values here\n",
    "aggregator, clients = dummy_aggregator(args_, num_user=40)"
   ]
  },
  {
   "cell_type": "code",
   "execution_count": 82,
   "metadata": {},
   "outputs": [],
   "source": [
    "# Compiling Dataset from Clients\n",
    "# Combine Validation Data across all clients as test\n",
    "data_x = []\n",
    "data_y = []\n",
    "\n",
    "for i in range(len(clients)):\n",
    "    daniloader = clients[i].test_iterator\n",
    "    for (x,y,idx) in daniloader.dataset:\n",
    "        data_x.append(x)\n",
    "        data_y.append(y)\n",
    "\n",
    "data_x = torch.stack(data_x)\n",
    "try:\n",
    "    data_y = torch.stack(data_y)        \n",
    "except:\n",
    "    data_y = torch.FloatTensor(data_y) \n",
    "    \n",
    "dataloader = Custom_Dataloader(data_x, data_y)"
   ]
  },
  {
   "cell_type": "code",
   "execution_count": 83,
   "metadata": {},
   "outputs": [],
   "source": [
    "# Import Model Weights\n",
    "setting = 'FedAvg'\n",
    "num_models = 40\n",
    "\n",
    "np.set_printoptions(formatter={'float': lambda x: \"{0:0.2f}\".format(x)})\n",
    "\n",
    "if setting == 'local':\n",
    "\n",
    "#     args_.save_path = 'weights/final/femnist/fig1_take3/local_benign/'\n",
    "#     args_.save_path ='weights/final/femnist/fig1_take3/local_adv/'\n",
    "    aggregator.load_state(args_.save_path)\n",
    "    \n",
    "    model_weights = []\n",
    "#     weights = np.load(\"weights/final/femnist/fig1_take3/local_benign/train_client_weights.npy\")\n",
    "    weights = np.load(args_.save_path + 'train_client_weights.npy')\n",
    "    \n",
    "    for i in range(num_models):\n",
    "        model_weights += [weights[i]]\n",
    "\n",
    "    # Generate the weights to test on as linear combinations of the model_weights\n",
    "    models_test = []\n",
    "\n",
    "    for i in range(num_models):\n",
    "        new_model = copy.deepcopy(aggregator.clients[i].learners_ensemble.learners[0].model)\n",
    "        new_model.eval()\n",
    "        models_test += [new_model]\n",
    "\n",
    "elif setting == 'FedAvg':\n",
    "    \n",
    "#     args_.save_path = 'weights/final/femnist/fig1_take3/fedavg_benign/'\n",
    "    aggregator.load_state(args_.save_path)\n",
    "    \n",
    "    # This is where the models are stored -- one for each mixture --> learner.model for nn\n",
    "    hypotheses = aggregator.global_learners_ensemble.learners\n",
    "\n",
    "    # obtain the state dict for each of the weights \n",
    "    weights_h = []\n",
    "\n",
    "    for h in hypotheses:\n",
    "        weights_h += [h.model.state_dict()]\n",
    "\n",
    "#     weights = np.load(\"weights/final/femnist/fig1_take3/fedavg_benign/train_client_weights.npy\")\n",
    "    weights = np.load(args_.save_path + 'train_client_weights.npy')\n",
    "    \n",
    "    # Set model weights\n",
    "    model_weights = []\n",
    "\n",
    "    for i in range(num_models):\n",
    "        model_weights += [weights[i]]\n",
    "\n",
    "    # Generate the weights to test on as linear combinations of the model_weights\n",
    "    models_test = []\n",
    "\n",
    "    for (w0) in model_weights:\n",
    "        # first make the model with empty weights\n",
    "        new_model = copy.deepcopy(hypotheses[0].model)\n",
    "        new_model.eval()\n",
    "        new_weight_dict = copy.deepcopy(weights_h[0])\n",
    "        for key in weights_h[0]:\n",
    "            new_weight_dict[key] = w0[0]*weights_h[0][key] \n",
    "        new_model.load_state_dict(new_weight_dict)\n",
    "        models_test += [new_model]\n",
    "\n",
    "elif setting == 'FedEM':\n",
    "    \n",
    "#     args_.save_path = 'weights/final/femnist/fig1_take3/fedem_benign/'\n",
    "#     args_.save_path = 'weights/final/femnist/fig1_take3/fedem_adv/'\n",
    "#     args_.save_path = 'weights/final/femnist/figperturb/fedem_avg_p0_1/'\n",
    "    aggregator.load_state(args_.save_path)\n",
    "    \n",
    "    # This is where the models are stored -- one for each mixture --> learner.model for nn\n",
    "    hypotheses = aggregator.global_learners_ensemble.learners\n",
    "\n",
    "    # obtain the state dict for each of the weights \n",
    "    weights_h = []\n",
    "\n",
    "    for h in hypotheses:\n",
    "        weights_h += [h.model.state_dict()]\n",
    "\n",
    "#     weights = np.load(\"weights/final/femnist/fig1_take3/fedem_benign/train_client_weights.npy\")\n",
    "#     weights = np.load(\"weights/final/femnist/fig1_take3/fedem_adv/train_client_weights.npy\")\n",
    "    weights = np.load(args_.save_path+\"train_client_weights.npy\")\n",
    "\n",
    "    # Set model weights\n",
    "    model_weights = []\n",
    "\n",
    "    for i in range(num_models):\n",
    "        model_weights += [weights[i]]\n",
    "\n",
    "\n",
    "    # Generate the weights to test on as linear combinations of the model_weights\n",
    "    models_test = []\n",
    "\n",
    "    for (w0,w1,w2) in model_weights:\n",
    "        # first make the model with empty weights\n",
    "        new_model = copy.deepcopy(hypotheses[0].model)\n",
    "        new_model.eval()\n",
    "        new_weight_dict = copy.deepcopy(weights_h[0])\n",
    "        for key in weights_h[0]:\n",
    "            new_weight_dict[key] = w0*weights_h[0][key] + w1*weights_h[1][key] + w2*weights_h[2][key]\n",
    "        new_model.load_state_dict(new_weight_dict)\n",
    "        models_test += [new_model]"
   ]
  },
  {
   "cell_type": "code",
   "execution_count": 84,
   "metadata": {},
   "outputs": [],
   "source": [
    "# Here we will make a dictionary that will hold results\n",
    "logs_adv = []\n",
    "\n",
    "for i in range(num_models):\n",
    "    adv_dict = {}\n",
    "    adv_dict['orig_acc_transfers'] = None\n",
    "    adv_dict['orig_similarities'] = None\n",
    "    adv_dict['adv_acc_transfers'] = None\n",
    "    adv_dict['adv_similarities_target'] = None\n",
    "    adv_dict['adv_similarities_untarget'] = None\n",
    "    adv_dict['adv_target'] = None\n",
    "    adv_dict['adv_miss'] = None\n",
    "    adv_dict['metric_alignment'] = None\n",
    "    adv_dict['ib_distance_legit'] = None\n",
    "    adv_dict['ib_distance_adv'] = None\n",
    "\n",
    "    logs_adv += [adv_dict]"
   ]
  },
  {
   "cell_type": "code",
   "execution_count": 85,
   "metadata": {},
   "outputs": [
    {
     "name": "stdout",
     "output_type": "stream",
     "text": [
      "\t Adv idx: 0\n",
      "\t Adv idx: 1\n",
      "\t Adv idx: 2\n",
      "\t Adv idx: 3\n",
      "\t Adv idx: 4\n",
      "\t Adv idx: 5\n",
      "\t Adv idx: 6\n",
      "\t Adv idx: 7\n",
      "\t Adv idx: 8\n",
      "\t Adv idx: 9\n",
      "\t Adv idx: 10\n",
      "\t Adv idx: 11\n",
      "\t Adv idx: 12\n",
      "\t Adv idx: 13\n",
      "\t Adv idx: 14\n",
      "\t Adv idx: 15\n",
      "\t Adv idx: 16\n",
      "\t Adv idx: 17\n",
      "\t Adv idx: 18\n",
      "\t Adv idx: 19\n",
      "\t Adv idx: 20\n",
      "\t Adv idx: 21\n",
      "\t Adv idx: 22\n",
      "\t Adv idx: 23\n",
      "\t Adv idx: 24\n",
      "\t Adv idx: 25\n",
      "\t Adv idx: 26\n",
      "\t Adv idx: 27\n",
      "\t Adv idx: 28\n",
      "\t Adv idx: 29\n",
      "\t Adv idx: 30\n",
      "\t Adv idx: 31\n",
      "\t Adv idx: 32\n",
      "\t Adv idx: 33\n",
      "\t Adv idx: 34\n",
      "\t Adv idx: 35\n",
      "\t Adv idx: 36\n",
      "\t Adv idx: 37\n",
      "\t Adv idx: 38\n",
      "\t Adv idx: 39\n"
     ]
    }
   ],
   "source": [
    "# Perform transfer attack from one client to another and record stats\n",
    "\n",
    "# Run Measurements for both targetted and untargeted analysis\n",
    "new_num_models = len(models_test)\n",
    "victim_idxs = range(new_num_models)\n",
    "custom_batch_size = 500\n",
    "eps = 4.5\n",
    "\n",
    "\n",
    "for adv_idx in victim_idxs:\n",
    "    print(\"\\t Adv idx:\", adv_idx)\n",
    "    \n",
    "    dataloader = load_client_data(clients = clients, c_id = adv_idx, mode = 'test') # or test/train\n",
    "    \n",
    "    batch_size = min(custom_batch_size, dataloader.y_data.shape[0])\n",
    "    \n",
    "    t1 = Transferer(models_list=models_test, dataloader=dataloader)\n",
    "    t1.generate_victims(victim_idxs)\n",
    "    \n",
    "    # Perform Attacks\n",
    "    t1.atk_params = PGD_Params()\n",
    "    t1.atk_params.set_params(batch_size=batch_size, iteration = 10,\n",
    "                   target = 8, x_val_min = torch.min(data_x), x_val_max = torch.max(data_x),\n",
    "                   step_size = 0.01, step_norm = \"inf\", eps = eps, eps_norm = 2)\n",
    "    \n",
    "    \n",
    "    \n",
    "    t1.generate_advNN(adv_idx)\n",
    "    t1.generate_xadv(atk_type = \"pgd\")\n",
    "    t1.send_to_victims(victim_idxs)\n",
    "\n",
    "    # Log Performance\n",
    "    logs_adv[adv_idx]['orig_acc_transfers'] = copy.deepcopy(t1.orig_acc_transfers)\n",
    "    logs_adv[adv_idx]['orig_similarities'] = copy.deepcopy(t1.orig_similarities)\n",
    "    logs_adv[adv_idx]['adv_acc_transfers'] = copy.deepcopy(t1.adv_acc_transfers)\n",
    "    logs_adv[adv_idx]['adv_similarities_target'] = copy.deepcopy(t1.adv_similarities)        \n",
    "    logs_adv[adv_idx]['adv_target'] = copy.deepcopy(t1.adv_target_hit)\n",
    "\n",
    "    # Untargeted attack\n",
    "    t1.atk_params.set_params(batch_size=batch_size, iteration = 10,\n",
    "                   target = -1, x_val_min = torch.min(data_x), x_val_max = torch.max(data_x),\n",
    "                   step_size = 0.01, step_norm = \"inf\", eps = eps, eps_norm = 2)\n",
    "    t1.generate_xadv(atk_type = \"pgd\")\n",
    "    t1.send_to_victims(victim_idxs)\n",
    "    logs_adv[adv_idx]['adv_miss'] = copy.deepcopy(t1.adv_acc_transfers)\n",
    "    logs_adv[adv_idx]['adv_similarities_untarget'] = copy.deepcopy(t1.adv_similarities)"
   ]
  },
  {
   "cell_type": "code",
   "execution_count": 89,
   "metadata": {},
   "outputs": [],
   "source": [
    "# Aggregate Results Across clients \n",
    "metrics = ['orig_acc_transfers','orig_similarities','adv_acc_transfers','adv_similarities_target',\n",
    "           'adv_similarities_untarget','adv_target','adv_miss'] #,'metric_alignment']\n",
    "\n",
    "orig_acc = np.zeros([len(victim_idxs),len(victim_idxs)]) \n",
    "orig_sim = np.zeros([len(victim_idxs),len(victim_idxs)]) \n",
    "adv_acc = np.zeros([len(victim_idxs),len(victim_idxs)]) \n",
    "adv_sim_target = np.zeros([len(victim_idxs),len(victim_idxs)]) \n",
    "adv_sim_untarget = np.zeros([len(victim_idxs),len(victim_idxs)]) \n",
    "adv_target = np.zeros([len(victim_idxs),len(victim_idxs)])\n",
    "adv_miss = np.zeros([len(victim_idxs),len(victim_idxs)]) \n",
    "\n",
    "for adv_idx in range(len(victim_idxs)):\n",
    "    for victim in range(len(victim_idxs)):\n",
    "        orig_acc[adv_idx,victim] = logs_adv[victim_idxs[adv_idx]][metrics[0]][victim_idxs[victim]].data.tolist()\n",
    "        orig_sim[adv_idx,victim] = logs_adv[victim_idxs[adv_idx]][metrics[1]][victim_idxs[victim]].data.tolist()\n",
    "        adv_acc[adv_idx,victim] = logs_adv[victim_idxs[adv_idx]][metrics[2]][victim_idxs[victim]].data.tolist()\n",
    "        adv_sim_target[adv_idx,victim] = logs_adv[victim_idxs[adv_idx]][metrics[3]][victim_idxs[victim]].data.tolist()\n",
    "        adv_sim_untarget[adv_idx,victim] = logs_adv[victim_idxs[adv_idx]][metrics[4]][victim_idxs[victim]].data.tolist()\n",
    "        adv_target[adv_idx,victim] = logs_adv[victim_idxs[adv_idx]][metrics[5]][victim_idxs[victim]].data.tolist()\n",
    "        adv_miss[adv_idx,victim] = logs_adv[victim_idxs[adv_idx]][metrics[6]][victim_idxs[victim]].data.tolist()"
   ]
  },
  {
   "cell_type": "code",
   "execution_count": 87,
   "metadata": {},
   "outputs": [
    {
     "name": "stdout",
     "output_type": "stream",
     "text": [
      "[[0.03 0.03 0.03 0.03 0.03 0.03 0.03 0.03 0.03 0.03]\n",
      " [0.03 0.03 0.03 0.03 0.03 0.03 0.03 0.03 0.03 0.03]\n",
      " [0.00 0.00 0.00 0.00 0.00 0.00 0.00 0.00 0.00 0.00]\n",
      " [0.04 0.04 0.04 0.04 0.04 0.04 0.04 0.04 0.04 0.04]\n",
      " [0.07 0.07 0.07 0.07 0.07 0.07 0.07 0.07 0.07 0.07]\n",
      " [0.04 0.04 0.04 0.04 0.04 0.04 0.04 0.04 0.04 0.04]\n",
      " [0.04 0.04 0.04 0.04 0.04 0.04 0.04 0.04 0.04 0.04]\n",
      " [0.04 0.04 0.04 0.04 0.04 0.04 0.04 0.04 0.04 0.04]\n",
      " [0.05 0.05 0.05 0.05 0.05 0.05 0.05 0.05 0.05 0.05]\n",
      " [0.06 0.06 0.06 0.06 0.06 0.06 0.06 0.06 0.06 0.06]]\n"
     ]
    }
   ],
   "source": [
    "print(adv_target[:10, :10])"
   ]
  },
  {
   "cell_type": "code",
   "execution_count": 88,
   "metadata": {},
   "outputs": [],
   "source": [
    "def avg_nondiag(array2d):\n",
    "    d1 = array2d.shape[0]\n",
    "    d2 = array2d.shape[1]\n",
    "    \n",
    "    counter = 0\n",
    "    val = 0\n",
    "    \n",
    "    for i1 in range(d1):\n",
    "        for i2 in range(d2):\n",
    "            if i1 != i2:\n",
    "                if not np.isnan(array2d[i1,i2]):\n",
    "                    counter+=1\n",
    "                    val += array2d[i1,i2]\n",
    "    \n",
    "    return val/counter"
   ]
  },
  {
   "cell_type": "code",
   "execution_count": 10,
   "metadata": {},
   "outputs": [
    {
     "data": {
      "text/plain": [
       "0"
      ]
     },
     "execution_count": 10,
     "metadata": {},
     "output_type": "execute_result"
    }
   ],
   "source": [
    "np.isnan(adv_target).sum()"
   ]
  },
  {
   "cell_type": "code",
   "execution_count": 11,
   "metadata": {},
   "outputs": [
    {
     "data": {
      "text/plain": [
       "array([[0.15, 0.15, 0.15, ..., 0.15, 0.15, 0.15],\n",
       "       [0.12, 0.12, 0.12, ..., 0.12, 0.12, 0.12],\n",
       "       [0.17, 0.17, 0.17, ..., 0.17, 0.17, 0.17],\n",
       "       ...,\n",
       "       [0.14, 0.14, 0.14, ..., 0.14, 0.14, 0.14],\n",
       "       [0.20, 0.20, 0.20, ..., 0.20, 0.20, 0.20],\n",
       "       [0.24, 0.24, 0.24, ..., 0.24, 0.24, 0.24]])"
      ]
     },
     "execution_count": 11,
     "metadata": {},
     "output_type": "execute_result"
    }
   ],
   "source": [
    "adv_target"
   ]
  },
  {
   "cell_type": "code",
   "execution_count": 90,
   "metadata": {},
   "outputs": [
    {
     "name": "stdout",
     "output_type": "stream",
     "text": [
      "adv_target: 0.03691284758970141\n",
      "adv_miss: 0.5989369846880436\n",
      "orig_acc: 0.742067939043045\n"
     ]
    }
   ],
   "source": [
    "print('adv_target:', avg_nondiag(adv_target))\n",
    "print('adv_miss:', avg_nondiag(adv_miss))\n",
    "print('orig_acc:', np.mean(np.diagonal(orig_acc)))"
   ]
  },
  {
   "cell_type": "code",
   "execution_count": 9,
   "metadata": {},
   "outputs": [
    {
     "name": "stdout",
     "output_type": "stream",
     "text": [
      "[[0.45 0.80 0.81 0.77 0.36 0.64 0.80 0.79 0.58 0.42]\n",
      " [0.62 0.78 0.77 0.76 0.58 0.68 0.74 0.76 0.64 0.60]\n",
      " [0.35 0.83 0.83 0.77 0.24 0.63 0.80 0.81 0.51 0.32]\n",
      " [0.38 0.72 0.72 0.70 0.35 0.57 0.70 0.71 0.52 0.39]\n",
      " [0.62 0.68 0.68 0.67 0.60 0.61 0.65 0.68 0.62 0.60]\n",
      " [0.40 0.78 0.78 0.78 0.36 0.55 0.80 0.77 0.50 0.41]\n",
      " [0.18 0.85 0.85 0.82 0.09 0.54 0.82 0.84 0.38 0.17]\n",
      " [0.43 0.78 0.78 0.77 0.31 0.60 0.79 0.78 0.52 0.40]\n",
      " [0.59 0.75 0.75 0.71 0.50 0.63 0.72 0.74 0.59 0.56]\n",
      " [0.42 0.80 0.80 0.79 0.39 0.59 0.80 0.82 0.55 0.42]]\n"
     ]
    }
   ],
   "source": [
    "# Check Results\n",
    "print(orig_acc[:10,:10])"
   ]
  },
  {
   "cell_type": "code",
   "execution_count": 12,
   "metadata": {},
   "outputs": [
    {
     "name": "stdout",
     "output_type": "stream",
     "text": [
      "[[0.00 0.00 0.00 0.00 0.00 0.00 0.00 0.00 0.00 0.00]\n",
      " [0.41 0.41 0.41 0.41 0.41 0.43 0.41 0.45 0.47 0.41]\n",
      " [0.53 0.55 0.54 0.57 0.54 0.63 0.54 0.54 0.68 0.53]\n",
      " [0.35 0.38 0.38 0.38 0.38 0.41 0.38 0.41 0.42 0.35]\n",
      " [0.17 0.22 0.22 0.22 0.17 0.22 0.22 0.22 0.22 0.17]\n",
      " [0.06 0.06 0.06 0.06 0.06 0.06 0.06 0.06 0.06 0.06]\n",
      " [0.46 0.48 0.48 0.48 0.48 0.48 0.48 0.48 0.50 0.46]\n",
      " [0.40 0.45 0.40 0.45 0.40 0.45 0.40 0.45 0.55 0.40]\n",
      " [0.22 0.22 0.17 0.33 0.17 0.33 0.22 0.17 0.33 0.22]\n",
      " [0.00 0.00 0.00 0.00 0.00 0.00 0.00 0.00 0.06 0.00]]\n"
     ]
    }
   ],
   "source": [
    "print(adv_acc[:10, :10])"
   ]
  },
  {
   "cell_type": "code",
   "execution_count": 13,
   "metadata": {},
   "outputs": [
    {
     "name": "stdout",
     "output_type": "stream",
     "text": [
      "[[0.07 0.10 0.07 0.07 0.07 0.02 0.07 0.07 0.02 0.07]\n",
      " [0.12 0.14 0.12 0.14 0.12 0.18 0.12 0.10 0.22 0.12]\n",
      " [0.15 0.17 0.14 0.17 0.15 0.18 0.16 0.17 0.22 0.15]\n",
      " [0.14 0.12 0.12 0.12 0.13 0.12 0.10 0.09 0.13 0.13]\n",
      " [0.11 0.11 0.13 0.13 0.11 0.11 0.11 0.13 0.09 0.11]\n",
      " [0.10 0.14 0.10 0.10 0.10 0.00 0.10 0.10 0.00 0.10]\n",
      " [0.07 0.07 0.06 0.07 0.07 0.10 0.06 0.06 0.14 0.07]\n",
      " [0.15 0.10 0.15 0.10 0.15 0.10 0.10 0.10 0.10 0.15]\n",
      " [0.11 0.11 0.11 0.11 0.11 0.06 0.11 0.11 0.06 0.11]\n",
      " [0.07 0.07 0.08 0.07 0.06 0.06 0.07 0.08 0.06 0.07]]\n"
     ]
    }
   ],
   "source": [
    "print(adv_miss[:10, :10])"
   ]
  },
  {
   "cell_type": "code",
   "execution_count": 12,
   "metadata": {},
   "outputs": [],
   "source": [
    "method = 'adv'"
   ]
  },
  {
   "cell_type": "code",
   "execution_count": 13,
   "metadata": {},
   "outputs": [
    {
     "data": {
      "text/plain": [
       "'FedEM'"
      ]
     },
     "execution_count": 13,
     "metadata": {},
     "output_type": "execute_result"
    }
   ],
   "source": [
    "setting"
   ]
  },
  {
   "cell_type": "code",
   "execution_count": 14,
   "metadata": {},
   "outputs": [],
   "source": [
    "np.save(f'results_celeba/{method}/{setting}_orig_acc_transfers', orig_acc)\n",
    "np.save(f'results_celeba/{method}/{setting}_orig_similarities', orig_sim)\n",
    "np.save(f'results_celeba/{method}/{setting}_adv_acc_transfers', adv_acc)\n",
    "np.save(f'results_celeba/{method}/{setting}_adv_similarities_target', adv_sim_target)\n",
    "np.save(f'results_celeba/{method}/{setting}_adv_similarities_untarget', adv_sim_untarget)\n",
    "np.save(f'results_celeba/{method}/{setting}_adv_target', adv_target)\n",
    "np.save(f'results_celeba/{method}/{setting}_adv_miss', adv_miss)"
   ]
  },
  {
   "cell_type": "code",
   "execution_count": 12,
   "metadata": {},
   "outputs": [],
   "source": [
    "np.save(f'results_celeba_prop/no_prop_orig_acc_transfers', orig_acc)\n",
    "np.save(f'results_celeba_prop/no_prop_orig_similarities', orig_sim)\n",
    "np.save(f'results_celeba_prop/no_prop_adv_acc_transfers', adv_acc)\n",
    "np.save(f'results_celeba_prop/no_prop_adv_similarities_target', adv_sim_target)\n",
    "np.save(f'results_celeba_prop/no_prop_adv_similarities_untarget', adv_sim_untarget)\n",
    "np.save(f'results_celeba_prop/no_prop_adv_target', adv_target)\n",
    "np.save(f'results_celeba_prop/no_prop_adv_miss', adv_miss)"
   ]
  },
  {
   "cell_type": "code",
   "execution_count": 13,
   "metadata": {},
   "outputs": [
    {
     "name": "stdout",
     "output_type": "stream",
     "text": [
      "orig_acc: 0.5413639895617962\n",
      "adv_miss: 0.046813174346700695\n",
      "adv_target: 4.528985591605306e-05\n"
     ]
    }
   ],
   "source": [
    "print('orig_acc:', np.mean(np.diagonal(orig_acc)))\n",
    "print('adv_miss:', avg_nondiag(adv_miss))\n",
    "print('adv_target:', avg_nondiag(adv_target))"
   ]
  },
  {
   "cell_type": "code",
   "execution_count": null,
   "metadata": {},
   "outputs": [],
   "source": []
  }
 ],
 "metadata": {
  "kernelspec": {
   "display_name": "Python 3.10.4 64-bit",
   "language": "python",
   "name": "python3"
  },
  "language_info": {
   "codemirror_mode": {
    "name": "ipython",
    "version": 3
   },
   "file_extension": ".py",
   "mimetype": "text/x-python",
   "name": "python",
   "nbconvert_exporter": "python",
   "pygments_lexer": "ipython3",
   "version": "3.8.10"
  },
  "vscode": {
   "interpreter": {
    "hash": "31f2aee4e71d21fbe5cf8b01ff0e069b9275f58929596ceb00d14d90e3e16cd6"
   }
  }
 },
 "nbformat": 4,
 "nbformat_minor": 4
}
