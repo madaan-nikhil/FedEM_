{
 "cells": [
  {
   "cell_type": "code",
   "execution_count": 1,
   "id": "fdd5bc46",
   "metadata": {},
   "outputs": [],
   "source": [
    "import numpy as np"
   ]
  },
  {
   "cell_type": "code",
   "execution_count": 2,
   "id": "b201a5b9",
   "metadata": {},
   "outputs": [],
   "source": [
    "def avg_nondiag(array2d):\n",
    "    d1 = array2d.shape[0]\n",
    "    d2 = array2d.shape[1]\n",
    "    \n",
    "    counter = 0\n",
    "    val = 0\n",
    "    \n",
    "    for i1 in range(d1):\n",
    "        for i2 in range(d2):\n",
    "            if i1 != i2:\n",
    "                counter+=1\n",
    "                val += array2d[i1,i2]\n",
    "    \n",
    "    return val/counter"
   ]
  },
  {
   "cell_type": "markdown",
   "id": "12a05137",
   "metadata": {},
   "source": [
    "## Benign Local"
   ]
  },
  {
   "cell_type": "code",
   "execution_count": 3,
   "id": "146ec9e6",
   "metadata": {},
   "outputs": [
    {
     "name": "stdout",
     "output_type": "stream",
     "text": [
      "adv_target: 6.322582186653446e-05\n",
      "adv_miss: 0.3692326369908793\n",
      "orig_acc: 0.6394386559724807\n"
     ]
    }
   ],
   "source": [
    "adv_target = np.load('results_celeba/benign/local_adv_target.npy',allow_pickle=True)\n",
    "adv_miss = np.load('results_celeba/benign/local_adv_miss.npy',allow_pickle=True)\n",
    "orig_acc = np.load('results_celeba/benign/local_orig_acc_transfers.npy',allow_pickle=True)\n",
    "\n",
    "print('adv_target:', avg_nondiag(adv_target))\n",
    "print('adv_miss:', avg_nondiag(adv_miss))\n",
    "print('orig_acc:', np.mean(np.diagonal(orig_acc)))"
   ]
  },
  {
   "cell_type": "code",
   "execution_count": 4,
   "id": "8843bc64",
   "metadata": {},
   "outputs": [
    {
     "name": "stdout",
     "output_type": "stream",
     "text": [
      "legit distance: 27.238500000000002\n",
      "adv distance: 11.806\n",
      "ensemble_adv distance: 11.4605\n"
     ]
    }
   ],
   "source": [
    "legit = np.load('results_celeba/benign/local_dist_legit.npy',allow_pickle=True)\n",
    "adv = np.load('results_celeba/benign/local_dist_adv.npy',allow_pickle=True)\n",
    "ensemble_adv = np.load('results_celeba/benign/local_dist_adv_ensemble.npy',allow_pickle=True)\n",
    "\n",
    "print('legit distance:', np.mean(legit))\n",
    "print('adv distance:', np.mean(adv))\n",
    "print('ensemble_adv distance:', np.mean(ensemble_adv))"
   ]
  },
  {
   "cell_type": "code",
   "execution_count": 5,
   "id": "5a9c90e1",
   "metadata": {},
   "outputs": [
    {
     "name": "stdout",
     "output_type": "stream",
     "text": [
      "adv_target: 4.240882117301226e-05\n",
      "adv_miss: 0.24289000539316072\n",
      "orig_acc: 0.5225585162639618\n"
     ]
    }
   ],
   "source": [
    "# Blackbox\n",
    "adv_target = np.load('results_celeba/benign/local_blackbox_adv_target.npy',allow_pickle=True)\n",
    "adv_miss = np.load('results_celeba/benign/local_blackbox_adv_miss.npy',allow_pickle=True)\n",
    "orig_acc = np.load('results_celeba/benign/local_blackbox_orig_acc_transfers.npy',allow_pickle=True)\n",
    "\n",
    "print('adv_target:', avg_nondiag(adv_target))\n",
    "print('adv_miss:', avg_nondiag(adv_miss))\n",
    "print('orig_acc:', np.mean(np.diagonal(orig_acc)))"
   ]
  },
  {
   "cell_type": "markdown",
   "id": "4969afc4",
   "metadata": {},
   "source": [
    "## Benign FedAvg"
   ]
  },
  {
   "cell_type": "code",
   "execution_count": 6,
   "id": "d343f7ee",
   "metadata": {},
   "outputs": [
    {
     "name": "stdout",
     "output_type": "stream",
     "text": [
      "adv_target: 0.12139617009088396\n",
      "adv_miss: 0.015733961545629428\n",
      "orig_acc: 0.8110166803002358\n"
     ]
    }
   ],
   "source": [
    "adv_target = np.load('results_celeba/benign/FedAvg_adv_target.npy',allow_pickle=True)\n",
    "adv_miss = np.load('results_celeba/benign/FedAvg_adv_miss.npy',allow_pickle=True)\n",
    "orig_acc = np.load('results_celeba/benign/FedAvg_orig_acc_transfers.npy',allow_pickle=True)\n",
    "\n",
    "print('adv_target:', avg_nondiag(adv_target))\n",
    "print('adv_miss:', avg_nondiag(adv_miss))\n",
    "print('orig_acc:', np.mean(np.diagonal(orig_acc)))"
   ]
  },
  {
   "cell_type": "code",
   "execution_count": 7,
   "id": "872342d8",
   "metadata": {},
   "outputs": [
    {
     "name": "stdout",
     "output_type": "stream",
     "text": [
      "legit distance: 0.0\n",
      "adv distance: 7.91\n",
      "ensemble_adv distance: 8.092\n"
     ]
    }
   ],
   "source": [
    "legit = np.load('results_celeba/benign/FedAvg_dist_legit.npy',allow_pickle=True)\n",
    "adv = np.load('results_celeba/benign/FedAvg_dist_adv.npy',allow_pickle=True)\n",
    "ensemble_adv = np.load('results_celeba/benign/FedAvg_dist_adv_ensemble.npy',allow_pickle=True)\n",
    "\n",
    "print('legit distance:', np.mean(legit))\n",
    "print('adv distance:', np.mean(adv))\n",
    "print('ensemble_adv distance:', np.mean(ensemble_adv))"
   ]
  },
  {
   "cell_type": "code",
   "execution_count": 8,
   "id": "3c9db774",
   "metadata": {},
   "outputs": [
    {
     "name": "stdout",
     "output_type": "stream",
     "text": [
      "adv_target: 0.0027095267083495854\n",
      "adv_miss: 0.10110811814665795\n",
      "orig_acc: 0.7619823217391968\n"
     ]
    }
   ],
   "source": [
    "#blackbox\n",
    "adv_target = np.load('results_celeba/benign/FedAvg_blackbox_adv_target.npy',allow_pickle=True)\n",
    "adv_miss = np.load('results_celeba/benign/FedAvg_blackbox_adv_miss.npy',allow_pickle=True)\n",
    "orig_acc = np.load('results_celeba/benign/FedAvg_blackbox_orig_acc_transfers.npy',allow_pickle=True)\n",
    "\n",
    "print('adv_target:', avg_nondiag(adv_target))\n",
    "print('adv_miss:', avg_nondiag(adv_miss))\n",
    "print('orig_acc:', np.mean(np.diagonal(orig_acc)))"
   ]
  },
  {
   "cell_type": "markdown",
   "id": "14ba3727",
   "metadata": {},
   "source": [
    "## Benign FedEM"
   ]
  },
  {
   "cell_type": "code",
   "execution_count": 9,
   "id": "c5a5cbd9",
   "metadata": {
    "scrolled": true
   },
   "outputs": [
    {
     "name": "stdout",
     "output_type": "stream",
     "text": [
      "adv_target: 0.02956898141852341\n",
      "adv_miss: 0.12292347889892065\n",
      "orig_acc: 0.8296766117215156\n"
     ]
    }
   ],
   "source": [
    "adv_target = np.load('results_celeba/benign/FedEM_adv_target.npy',allow_pickle=True)\n",
    "adv_miss = np.load('results_celeba/benign/FedEM_adv_miss.npy',allow_pickle=True)\n",
    "orig_acc = np.load('results_celeba/benign/FedEM_orig_acc_transfers.npy',allow_pickle=True)\n",
    "\n",
    "print('adv_target:', avg_nondiag(adv_target))\n",
    "print('adv_miss:', avg_nondiag(adv_miss))\n",
    "print('orig_acc:', np.mean(np.diagonal(orig_acc)))"
   ]
  },
  {
   "cell_type": "code",
   "execution_count": 10,
   "id": "0654421b",
   "metadata": {},
   "outputs": [
    {
     "name": "stdout",
     "output_type": "stream",
     "text": [
      "legit distance: 2.9355000000000007\n",
      "adv distance: 6.9655000000000005\n",
      "ensemble_adv distance: 7.557\n"
     ]
    }
   ],
   "source": [
    "legit = np.load('results_celeba/benign/FedEM_dist_legit.npy',allow_pickle=True)\n",
    "adv = np.load('results_celeba/benign/FedEM_dist_adv.npy',allow_pickle=True)\n",
    "ensemble_adv = np.load('results_celeba/benign/FedEM_dist_adv_ensemble.npy',allow_pickle=True)\n",
    "\n",
    "print('legit distance:', np.mean(legit))\n",
    "print('adv distance:', np.mean(adv))\n",
    "print('ensemble_adv distance:', np.mean(ensemble_adv))"
   ]
  },
  {
   "cell_type": "code",
   "execution_count": 11,
   "id": "15090e8a",
   "metadata": {},
   "outputs": [
    {
     "name": "stdout",
     "output_type": "stream",
     "text": [
      "adv_target: 0.0003247349936929014\n",
      "adv_miss: 0.1568197898980644\n",
      "orig_acc: 0.7584630846977234\n"
     ]
    }
   ],
   "source": [
    "#blackbox\n",
    "adv_target = np.load('results_celeba/benign/FedEM_blackbox_adv_target.npy',allow_pickle=True)\n",
    "adv_miss = np.load('results_celeba/benign/FedEM_blackbox_adv_miss.npy',allow_pickle=True)\n",
    "orig_acc = np.load('results_celeba/benign/FedEM_blackbox_orig_acc_transfers.npy',allow_pickle=True)\n",
    "\n",
    "print('adv_target:', avg_nondiag(adv_target))\n",
    "print('adv_miss:', avg_nondiag(adv_miss))\n",
    "print('orig_acc:', np.mean(np.diagonal(orig_acc)))"
   ]
  },
  {
   "cell_type": "markdown",
   "id": "d5c3ef25",
   "metadata": {},
   "source": [
    "## Adv local"
   ]
  },
  {
   "cell_type": "code",
   "execution_count": 12,
   "id": "34c303da",
   "metadata": {
    "scrolled": true
   },
   "outputs": [
    {
     "name": "stdout",
     "output_type": "stream",
     "text": [
      "adv_target: 0.0\n",
      "adv_miss: 0.3490890949158571\n",
      "orig_acc: 0.575839931331575\n"
     ]
    }
   ],
   "source": [
    "adv_target = np.load('results_celeba/adv/local_adv_target.npy',allow_pickle=True)\n",
    "adv_miss = np.load('results_celeba/adv/local_adv_miss.npy',allow_pickle=True)\n",
    "orig_acc = np.load('results_celeba/adv/local_orig_acc_transfers.npy',allow_pickle=True)\n",
    "\n",
    "print('adv_target:', avg_nondiag(adv_target))\n",
    "print('adv_miss:', avg_nondiag(adv_miss))\n",
    "print('orig_acc:', np.mean(np.diagonal(orig_acc)))"
   ]
  },
  {
   "cell_type": "code",
   "execution_count": 13,
   "id": "fcb6dea0",
   "metadata": {},
   "outputs": [
    {
     "name": "stdout",
     "output_type": "stream",
     "text": [
      "legit distance: 18.89874213836478\n",
      "adv distance: 19.757851239669424\n",
      "ensemble_adv distance: 11.377952755905511\n"
     ]
    }
   ],
   "source": [
    "legit = np.load('results_celeba/adv/local_dist_legit.npy',allow_pickle=True)\n",
    "adv = np.load('results_celeba/adv/local_dist_adv.npy',allow_pickle=True)\n",
    "ensemble_adv = np.load('results_celeba/adv/local_dist_adv_ensemble.npy',allow_pickle=True)\n",
    "\n",
    "print('legit distance:', np.nanmean(legit))\n",
    "print('adv distance:', np.nanmean(adv))\n",
    "print('ensemble_adv distance:', np.nanmean(ensemble_adv))"
   ]
  },
  {
   "cell_type": "code",
   "execution_count": 14,
   "id": "5af56764",
   "metadata": {},
   "outputs": [
    {
     "name": "stdout",
     "output_type": "stream",
     "text": [
      "adv_target: 0.0\n",
      "adv_miss: 0.25642910821156367\n",
      "orig_acc: 0.5050615265965461\n"
     ]
    }
   ],
   "source": [
    "#blackbox\n",
    "adv_target = np.load('results_celeba/adv/local_blackbox_adv_target.npy',allow_pickle=True)\n",
    "adv_miss = np.load('results_celeba/adv/local_blackbox_adv_miss.npy',allow_pickle=True)\n",
    "orig_acc = np.load('results_celeba/adv/local_blackbox_orig_acc_transfers.npy',allow_pickle=True)\n",
    "\n",
    "print('adv_target:', avg_nondiag(adv_target))\n",
    "print('adv_miss:', avg_nondiag(adv_miss))\n",
    "print('orig_acc:', np.mean(np.diagonal(orig_acc)))"
   ]
  },
  {
   "cell_type": "markdown",
   "id": "7304241e",
   "metadata": {},
   "source": [
    "## Adv FedAvg"
   ]
  },
  {
   "cell_type": "code",
   "execution_count": 15,
   "id": "65b8af63",
   "metadata": {
    "scrolled": true
   },
   "outputs": [
    {
     "name": "stdout",
     "output_type": "stream",
     "text": [
      "adv_target: 0.0\n",
      "adv_miss: 0.17936616130173205\n",
      "orig_acc: 0.7836161501705646\n"
     ]
    }
   ],
   "source": [
    "adv_target = np.load('results_celeba/adv/FedAvg_adv_target.npy',allow_pickle=True)\n",
    "adv_miss = np.load('results_celeba/adv/FedAvg_adv_miss.npy',allow_pickle=True)\n",
    "orig_acc = np.load('results_celeba/adv/FedAvg_orig_acc_transfers.npy',allow_pickle=True)\n",
    "\n",
    "print('adv_target:', avg_nondiag(adv_target))\n",
    "print('adv_miss:', avg_nondiag(adv_miss))\n",
    "print('orig_acc:', np.mean(np.diagonal(orig_acc)))"
   ]
  },
  {
   "cell_type": "code",
   "execution_count": 16,
   "id": "f6cc6ccc",
   "metadata": {},
   "outputs": [
    {
     "name": "stdout",
     "output_type": "stream",
     "text": [
      "legit distance: 0.0\n",
      "adv distance: 5.018\n",
      "ensemble_adv distance: 8.138\n"
     ]
    }
   ],
   "source": [
    "legit = np.load('results_celeba/adv/FedAvg_dist_legit.npy',allow_pickle=True)\n",
    "adv = np.load('results_celeba/adv/FedAvg_dist_adv.npy',allow_pickle=True)\n",
    "ensemble_adv = np.load('results_celeba/adv/FedAvg_dist_adv_ensemble.npy',allow_pickle=True)\n",
    "\n",
    "print('legit distance:', np.mean(legit))\n",
    "print('adv distance:', np.mean(adv))\n",
    "print('ensemble_adv distance:', np.mean(ensemble_adv))"
   ]
  },
  {
   "cell_type": "code",
   "execution_count": 17,
   "id": "8d2d0301",
   "metadata": {},
   "outputs": [
    {
     "name": "stdout",
     "output_type": "stream",
     "text": [
      "adv_target: 0.0\n",
      "adv_miss: 0.6038683295249939\n",
      "orig_acc: 0.7185621351003647\n"
     ]
    }
   ],
   "source": [
    "#blackbox\n",
    "adv_target = np.load('results_celeba/adv/FedAvg_blackbox_adv_target.npy',allow_pickle=True)\n",
    "adv_miss = np.load('results_celeba/adv/FedAvg_blackbox_adv_miss.npy',allow_pickle=True)\n",
    "orig_acc = np.load('results_celeba/adv/FedAvg_blackbox_orig_acc_transfers.npy',allow_pickle=True)\n",
    "\n",
    "print('adv_target:', avg_nondiag(adv_target))\n",
    "print('adv_miss:', avg_nondiag(adv_miss))\n",
    "print('orig_acc:', np.mean(np.diagonal(orig_acc)))"
   ]
  },
  {
   "cell_type": "markdown",
   "id": "1ef3b27e",
   "metadata": {},
   "source": [
    "## Adv FedEM"
   ]
  },
  {
   "cell_type": "code",
   "execution_count": 18,
   "id": "8600615d",
   "metadata": {
    "scrolled": true
   },
   "outputs": [
    {
     "name": "stdout",
     "output_type": "stream",
     "text": [
      "adv_target: 0.0\n",
      "adv_miss: 0.3636481381415461\n",
      "orig_acc: 0.7795192331075669\n"
     ]
    }
   ],
   "source": [
    "adv_target = np.load('results_celeba/adv/FedEM_adv_target.npy',allow_pickle=True)\n",
    "adv_miss = np.load('results_celeba/adv/FedEM_adv_miss.npy',allow_pickle=True)\n",
    "orig_acc = np.load('results_celeba/adv/FedEM_orig_acc_transfers.npy',allow_pickle=True)\n",
    "\n",
    "print('adv_target:', avg_nondiag(adv_target))\n",
    "print('adv_miss:', avg_nondiag(adv_miss))\n",
    "print('orig_acc:', np.mean(np.diagonal(orig_acc)))"
   ]
  },
  {
   "cell_type": "code",
   "execution_count": 19,
   "id": "891ed054",
   "metadata": {},
   "outputs": [
    {
     "name": "stdout",
     "output_type": "stream",
     "text": [
      "legit distance: 24.34775\n",
      "adv distance: 19.18775\n",
      "ensemble_adv distance: 8.79925\n"
     ]
    }
   ],
   "source": [
    "legit = np.load('results_celeba/adv/FedEM_dist_legit.npy',allow_pickle=True)\n",
    "adv = np.load('results_celeba/adv/FedEM_dist_adv.npy',allow_pickle=True)\n",
    "ensemble_adv = np.load('results_celeba/adv/FedEM_dist_adv_ensemble.npy',allow_pickle=True)\n",
    "\n",
    "print('legit distance:', np.mean(legit))\n",
    "print('adv distance:', np.mean(adv))\n",
    "print('ensemble_adv distance:', np.mean(ensemble_adv))"
   ]
  },
  {
   "cell_type": "code",
   "execution_count": 20,
   "id": "a1b05196",
   "metadata": {},
   "outputs": [
    {
     "name": "stdout",
     "output_type": "stream",
     "text": [
      "adv_target: 0.0\n",
      "adv_miss: 0.5081715018384987\n",
      "orig_acc: 0.7103197693824768\n"
     ]
    }
   ],
   "source": [
    "#blackbox\n",
    "adv_target = np.load('results_celeba/adv/FedEM_blackbox_adv_target.npy',allow_pickle=True)\n",
    "adv_miss = np.load('results_celeba/adv/FedEM_blackbox_adv_miss.npy',allow_pickle=True)\n",
    "orig_acc = np.load('results_celeba/adv/FedEM_blackbox_orig_acc_transfers.npy',allow_pickle=True)\n",
    "\n",
    "print('adv_target:', avg_nondiag(adv_target))\n",
    "print('adv_miss:', avg_nondiag(adv_miss))\n",
    "print('orig_acc:', np.mean(np.diagonal(orig_acc)))"
   ]
  }
 ],
 "metadata": {
  "kernelspec": {
   "display_name": "Python 3",
   "language": "python",
   "name": "python3"
  },
  "language_info": {
   "codemirror_mode": {
    "name": "ipython",
    "version": 3
   },
   "file_extension": ".py",
   "mimetype": "text/x-python",
   "name": "python",
   "nbconvert_exporter": "python",
   "pygments_lexer": "ipython3",
   "version": "3.8.8"
  }
 },
 "nbformat": 4,
 "nbformat_minor": 5
}
