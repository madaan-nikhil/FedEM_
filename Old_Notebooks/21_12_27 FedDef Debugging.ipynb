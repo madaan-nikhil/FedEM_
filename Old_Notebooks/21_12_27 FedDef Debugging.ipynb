{
 "cells": [
  {
   "cell_type": "code",
   "execution_count": 1,
   "metadata": {},
   "outputs": [
    {
     "name": "stdout",
     "output_type": "stream",
     "text": [
      "/home/ubuntu/FedEM\n"
     ]
    }
   ],
   "source": [
    "cd /home/ubuntu/FedEM/"
   ]
  },
  {
   "cell_type": "code",
   "execution_count": 2,
   "metadata": {},
   "outputs": [],
   "source": [
    "# from utils.utils import *\n",
    "from utils.constants import *\n",
    "from utils.args import *\n",
    "from run_experiment import * \n",
    "\n",
    "from torch.utils.tensorboard import SummaryWriter\n",
    "\n",
    "# # Import General Libraries\n",
    "import os\n",
    "import argparse\n",
    "import torch\n",
    "import copy\n",
    "import pickle\n",
    "import random\n",
    "import numpy as np\n",
    "import pandas as pd\n",
    "from models import *\n",
    "\n",
    "# # Import Transfer Attack\n",
    "from transfer_attacks.Personalized_NN import *\n",
    "from transfer_attacks.Params import *\n",
    "from transfer_attacks.Transferer import *\n",
    "from transfer_attacks.Args import *\n",
    "from transfer_attacks.TA_utils import *\n",
    "\n",
    "from transfer_attacks.Boundary_Transferer import *\n",
    "from transfer_attacks.projected_gradient_descent import *"
   ]
  },
  {
   "cell_type": "code",
   "execution_count": 3,
   "metadata": {},
   "outputs": [],
   "source": [
    "# Manually set argument parameters\n",
    "args_ = Args()\n",
    "args_.experiment = \"cifar10\"\n",
    "args_.method = \"FedEM_adv\"\n",
    "args_.decentralized = False\n",
    "args_.sampling_rate = 1.0\n",
    "args_.input_dimension = None\n",
    "args_.output_dimension = None\n",
    "args_.n_learners= 3\n",
    "args_.n_rounds = 6\n",
    "args_.bz = 128\n",
    "args_.local_steps = 1\n",
    "args_.lr_lambda = 0\n",
    "args_.lr =0.03\n",
    "args_.lr_scheduler = 'multi_step'\n",
    "args_.log_freq = 10\n",
    "args_.device = 'cuda'\n",
    "args_.optimizer = 'sgd'\n",
    "args_.mu = 0\n",
    "args_.communication_probability = 0.1\n",
    "args_.q = 1\n",
    "args_.locally_tune_clients = False\n",
    "args_.seed = 1234\n",
    "args_.verbose = 1\n",
    "args_.save_path = 'weights/cifar/21_12_27_feddef1_n40/'\n",
    "args_.validation = False"
   ]
  },
  {
   "cell_type": "code",
   "execution_count": 11,
   "metadata": {},
   "outputs": [
    {
     "name": "stdout",
     "output_type": "stream",
     "text": [
      "==> Clients initialization..\n",
      "===> Building data iterators..\n"
     ]
    },
    {
     "name": "stderr",
     "output_type": "stream",
     "text": [
      "\n",
      "  0%|                                                    | 0/80 [00:00<?, ?it/s]\u001b[A\n",
      " 24%|█████████▉                                | 19/80 [00:00<00:00, 180.11it/s]\u001b[A\n",
      " 48%|███████████████████▉                      | 38/80 [00:00<00:00, 175.39it/s]\u001b[A\n",
      "100%|██████████████████████████████████████████| 80/80 [00:00<00:00, 212.90it/s]\u001b[A\n"
     ]
    },
    {
     "name": "stdout",
     "output_type": "stream",
     "text": [
      "===> Initializing clients..\n"
     ]
    },
    {
     "name": "stderr",
     "output_type": "stream",
     "text": [
      "\n",
      "  0%|                                                    | 0/80 [00:00<?, ?it/s]\u001b[A\n",
      "  1%|▌                                           | 1/80 [00:00<00:41,  1.91it/s]\u001b[A\n",
      "  2%|█                                           | 2/80 [00:01<00:54,  1.44it/s]\u001b[A\n",
      "  4%|█▋                                          | 3/80 [00:01<00:49,  1.54it/s]\u001b[A\n",
      "  5%|██▏                                         | 4/80 [00:02<00:45,  1.66it/s]\u001b[A\n",
      "  6%|██▊                                         | 5/80 [00:03<00:43,  1.72it/s]\u001b[A\n",
      "  8%|███▎                                        | 6/80 [00:03<00:48,  1.52it/s]\u001b[A\n",
      "  9%|███▊                                        | 7/80 [00:04<00:45,  1.59it/s]\u001b[A\n",
      " 10%|████▍                                       | 8/80 [00:04<00:41,  1.72it/s]\u001b[A\n",
      " 11%|████▉                                       | 9/80 [00:05<00:40,  1.75it/s]\u001b[A\n",
      " 12%|█████▍                                     | 10/80 [00:06<00:42,  1.63it/s]\u001b[A\n",
      " 14%|█████▉                                     | 11/80 [00:06<00:39,  1.76it/s]\u001b[A\n",
      " 15%|██████▍                                    | 12/80 [00:07<00:39,  1.73it/s]\u001b[A\n",
      " 16%|██████▉                                    | 13/80 [00:07<00:37,  1.80it/s]\u001b[A\n",
      " 18%|███████▌                                   | 14/80 [00:08<00:34,  1.90it/s]\u001b[A\n",
      " 19%|████████                                   | 15/80 [00:08<00:35,  1.84it/s]\u001b[A\n",
      " 20%|████████▌                                  | 16/80 [00:09<00:33,  1.91it/s]\u001b[A\n",
      " 21%|█████████▏                                 | 17/80 [00:09<00:35,  1.76it/s]\u001b[A\n",
      " 22%|█████████▋                                 | 18/80 [00:10<00:44,  1.39it/s]\u001b[A\n",
      " 24%|██████████▏                                | 19/80 [00:11<00:43,  1.40it/s]\u001b[A\n",
      " 25%|██████████▊                                | 20/80 [00:12<00:39,  1.53it/s]\u001b[A\n",
      " 26%|███████████▎                               | 21/80 [00:12<00:39,  1.50it/s]\u001b[A\n",
      " 28%|███████████▊                               | 22/80 [00:13<00:36,  1.58it/s]\u001b[A\n",
      " 29%|████████████▎                              | 23/80 [00:14<00:38,  1.49it/s]\u001b[A\n",
      " 30%|████████████▉                              | 24/80 [00:14<00:37,  1.48it/s]\u001b[A\n",
      " 31%|█████████████▍                             | 25/80 [00:15<00:35,  1.57it/s]\u001b[A\n",
      " 32%|█████████████▉                             | 26/80 [00:16<00:35,  1.53it/s]\u001b[A\n",
      " 34%|██████████████▌                            | 27/80 [00:16<00:35,  1.47it/s]\u001b[A\n",
      " 35%|███████████████                            | 28/80 [00:17<00:33,  1.55it/s]\u001b[A\n",
      " 36%|███████████████▌                           | 29/80 [00:17<00:30,  1.65it/s]\u001b[A\n",
      " 38%|████████████████▏                          | 30/80 [00:18<00:30,  1.66it/s]\u001b[A\n",
      " 39%|████████████████▋                          | 31/80 [00:18<00:27,  1.77it/s]\u001b[A\n",
      " 40%|█████████████████▏                         | 32/80 [00:19<00:26,  1.83it/s]\u001b[A\n",
      " 41%|█████████████████▋                         | 33/80 [00:20<00:26,  1.77it/s]\u001b[A\n",
      " 42%|██████████████████▎                        | 34/80 [00:20<00:25,  1.81it/s]\u001b[A\n",
      " 44%|██████████████████▊                        | 35/80 [00:21<00:28,  1.60it/s]\u001b[A\n",
      " 45%|███████████████████▎                       | 36/80 [00:21<00:26,  1.66it/s]\u001b[A\n",
      " 46%|███████████████████▉                       | 37/80 [00:23<00:32,  1.33it/s]\u001b[A\n",
      " 48%|████████████████████▍                      | 38/80 [00:23<00:29,  1.43it/s]\u001b[A\n",
      " 49%|████████████████████▉                      | 39/80 [00:24<00:25,  1.60it/s]\u001b[A\n",
      " 50%|█████████████████████▌                     | 40/80 [00:24<00:26,  1.52it/s]\u001b[A\n",
      " 51%|██████████████████████                     | 41/80 [00:25<00:24,  1.59it/s]\u001b[A\n",
      " 52%|██████████████████████▌                    | 42/80 [00:25<00:22,  1.66it/s]\u001b[A\n",
      " 54%|███████████████████████                    | 43/80 [00:26<00:23,  1.59it/s]\u001b[A\n",
      " 55%|███████████████████████▋                   | 44/80 [00:27<00:21,  1.69it/s]\u001b[A\n",
      " 56%|████████████████████████▏                  | 45/80 [00:27<00:20,  1.71it/s]\u001b[A\n",
      " 57%|████████████████████████▋                  | 46/80 [00:28<00:19,  1.72it/s]\u001b[A\n",
      " 59%|█████████████████████████▎                 | 47/80 [00:28<00:17,  1.84it/s]\u001b[A\n",
      " 60%|█████████████████████████▊                 | 48/80 [00:29<00:16,  1.91it/s]\u001b[A\n",
      " 61%|██████████████████████████▎                | 49/80 [00:30<00:18,  1.65it/s]\u001b[A\n",
      " 62%|██████████████████████████▉                | 50/80 [00:30<00:17,  1.72it/s]\u001b[A\n",
      " 64%|███████████████████████████▍               | 51/80 [00:31<00:16,  1.80it/s]\u001b[A\n",
      " 65%|███████████████████████████▉               | 52/80 [00:31<00:15,  1.81it/s]\u001b[A\n",
      " 66%|████████████████████████████▍              | 53/80 [00:32<00:14,  1.89it/s]\u001b[A\n",
      " 68%|█████████████████████████████              | 54/80 [00:32<00:13,  1.88it/s]\u001b[A\n",
      " 69%|█████████████████████████████▌             | 55/80 [00:33<00:13,  1.92it/s]\u001b[A\n",
      " 70%|██████████████████████████████             | 56/80 [00:33<00:12,  1.99it/s]\u001b[A\n",
      " 71%|██████████████████████████████▋            | 57/80 [00:33<00:10,  2.14it/s]\u001b[A\n",
      " 72%|███████████████████████████████▏           | 58/80 [00:34<00:10,  2.18it/s]\u001b[A\n",
      " 74%|███████████████████████████████▋           | 59/80 [00:34<00:09,  2.25it/s]\u001b[A\n",
      " 75%|████████████████████████████████▎          | 60/80 [00:35<00:12,  1.62it/s]\u001b[A\n",
      " 76%|████████████████████████████████▊          | 61/80 [00:36<00:10,  1.76it/s]\u001b[A\n",
      " 78%|█████████████████████████████████▎         | 62/80 [00:36<00:09,  1.89it/s]\u001b[A\n",
      " 79%|█████████████████████████████████▊         | 63/80 [00:37<00:08,  2.01it/s]\u001b[A\n",
      " 80%|██████████████████████████████████▍        | 64/80 [00:37<00:08,  1.86it/s]\u001b[A\n",
      " 81%|██████████████████████████████████▉        | 65/80 [00:38<00:08,  1.79it/s]\u001b[A\n",
      " 82%|███████████████████████████████████▍       | 66/80 [00:39<00:08,  1.63it/s]\u001b[A\n",
      " 84%|████████████████████████████████████       | 67/80 [00:39<00:08,  1.60it/s]\u001b[A\n",
      " 85%|████████████████████████████████████▌      | 68/80 [00:40<00:08,  1.40it/s]\u001b[A\n",
      " 86%|█████████████████████████████████████      | 69/80 [00:41<00:07,  1.53it/s]\u001b[A\n",
      " 88%|█████████████████████████████████████▋     | 70/80 [00:41<00:06,  1.67it/s]\u001b[A\n",
      " 89%|██████████████████████████████████████▏    | 71/80 [00:42<00:05,  1.64it/s]\u001b[A\n",
      " 90%|██████████████████████████████████████▋    | 72/80 [00:42<00:04,  1.69it/s]\u001b[A\n",
      " 91%|███████████████████████████████████████▏   | 73/80 [00:43<00:04,  1.54it/s]\u001b[A\n",
      " 92%|███████████████████████████████████████▊   | 74/80 [00:44<00:03,  1.58it/s]\u001b[A\n",
      " 94%|████████████████████████████████████████▎  | 75/80 [00:44<00:02,  1.68it/s]\u001b[A\n",
      " 95%|████████████████████████████████████████▊  | 76/80 [00:45<00:02,  1.72it/s]\u001b[A\n",
      " 96%|█████████████████████████████████████████▍ | 77/80 [00:45<00:01,  1.82it/s]\u001b[A\n",
      " 98%|█████████████████████████████████████████▉ | 78/80 [00:46<00:01,  1.82it/s]\u001b[A\n",
      " 99%|██████████████████████████████████████████▍| 79/80 [00:46<00:00,  1.98it/s]\u001b[A\n",
      "100%|███████████████████████████████████████████| 80/80 [00:47<00:00,  1.69it/s]\u001b[A\n"
     ]
    },
    {
     "name": "stdout",
     "output_type": "stream",
     "text": [
      "==> Test Clients initialization..\n",
      "===> Building data iterators..\n"
     ]
    },
    {
     "name": "stderr",
     "output_type": "stream",
     "text": [
      "\n",
      "0it [00:00, ?it/s]\u001b[A\n"
     ]
    },
    {
     "name": "stdout",
     "output_type": "stream",
     "text": [
      "===> Initializing clients..\n"
     ]
    },
    {
     "name": "stderr",
     "output_type": "stream",
     "text": [
      "\n",
      "0it [00:00, ?it/s]\u001b[A\n"
     ]
    },
    {
     "name": "stdout",
     "output_type": "stream",
     "text": [
      "++++++++++++++++++++++++++++++\n",
      "Global..\n",
      "Train Loss: 2.292 | Train Acc: 12.195% |Test Loss: 2.292 | Test Acc: 12.291% |\n",
      "++++++++++++++++++++++++++++++++++++++++++++++++++\n",
      "################################################################################\n"
     ]
    }
   ],
   "source": [
    "# Other Argument Parameters\n",
    "Q = 2 # update per round\n",
    "G = 0.5\n",
    "num_clients = 40\n",
    "S = 0.05 # Threshold\n",
    "step_size = 0.01\n",
    "K = 15\n",
    "\n",
    "# Randomized Parameters\n",
    "Ru = np.random.uniform(low=0.2, high=0.8, size=num_clients)\n",
    "\n",
    "# Generate the dummy values here\n",
    "aggregator, clients = dummy_aggregator(args_, num_clients)\n",
    "\n",
    "# Set attack parameters\n",
    "x_min = torch.min(clients[0].adv_nn.dataloader.x_data)\n",
    "x_max = torch.max(clients[0].adv_nn.dataloader.x_data)\n",
    "atk_params = PGD_Params()\n",
    "atk_params.set_params(batch_size=1, iteration = K,\n",
    "                   target = -1, x_val_min = x_min, x_val_max = x_max,\n",
    "                   step_size = 0.05, step_norm = \"inf\", eps = 1, eps_norm = \"inf\")\n",
    "\n",
    "# Obtain the central controller decision making variables (static)\n",
    "num_h = args_.n_learners= 3\n",
    "Du = np.zeros(len(clients))\n",
    "\n",
    "for i in range(len(clients)):\n",
    "    num_data = clients[i].train_iterator.dataset.targets.shape[0]\n",
    "    Du[i] = num_data\n",
    "D = np.sum(Du) # Total number of data points\n"
   ]
  },
  {
   "cell_type": "code",
   "execution_count": 13,
   "metadata": {},
   "outputs": [
    {
     "name": "stdout",
     "output_type": "stream",
     "text": [
      "Training..\n"
     ]
    },
    {
     "name": "stderr",
     "output_type": "stream",
     "text": [
      "\n",
      "7it [17:39, 151.33s/it]                                   | 0/6 [00:00<?, ?it/s]\u001b[A"
     ]
    },
    {
     "name": "stdout",
     "output_type": "stream",
     "text": [
      "Round: 0 Calculation Adv\n"
     ]
    },
    {
     "name": "stderr",
     "output_type": "stream",
     "text": [
      "\n"
     ]
    },
    {
     "ename": "KeyboardInterrupt",
     "evalue": "",
     "output_type": "error",
     "traceback": [
      "\u001b[0;31m---------------------------------------------------------------------------\u001b[0m",
      "\u001b[0;31mKeyboardInterrupt\u001b[0m                         Traceback (most recent call last)",
      "\u001b[0;32m/tmp/ipykernel_488163/388880185.py\u001b[0m in \u001b[0;36m<module>\u001b[0;34m\u001b[0m\n\u001b[1;32m     28\u001b[0m             \u001b[0maggregator\u001b[0m\u001b[0;34m.\u001b[0m\u001b[0mclients\u001b[0m\u001b[0;34m[\u001b[0m\u001b[0mi\u001b[0m\u001b[0;34m]\u001b[0m\u001b[0;34m.\u001b[0m\u001b[0mset_adv_params\u001b[0m\u001b[0;34m(\u001b[0m\u001b[0mFu\u001b[0m\u001b[0;34m[\u001b[0m\u001b[0mi\u001b[0m\u001b[0;34m]\u001b[0m\u001b[0;34m,\u001b[0m \u001b[0matk_params\u001b[0m\u001b[0;34m)\u001b[0m\u001b[0;34m\u001b[0m\u001b[0;34m\u001b[0m\u001b[0m\n\u001b[1;32m     29\u001b[0m             \u001b[0maggregator\u001b[0m\u001b[0;34m.\u001b[0m\u001b[0mclients\u001b[0m\u001b[0;34m[\u001b[0m\u001b[0mi\u001b[0m\u001b[0;34m]\u001b[0m\u001b[0;34m.\u001b[0m\u001b[0mupdate_advnn\u001b[0m\u001b[0;34m(\u001b[0m\u001b[0;34m)\u001b[0m\u001b[0;34m\u001b[0m\u001b[0;34m\u001b[0m\u001b[0m\n\u001b[0;32m---> 30\u001b[0;31m             \u001b[0maggregator\u001b[0m\u001b[0;34m.\u001b[0m\u001b[0mclients\u001b[0m\u001b[0;34m[\u001b[0m\u001b[0mi\u001b[0m\u001b[0;34m]\u001b[0m\u001b[0;34m.\u001b[0m\u001b[0massign_advdataset\u001b[0m\u001b[0;34m(\u001b[0m\u001b[0;34m)\u001b[0m\u001b[0;34m\u001b[0m\u001b[0;34m\u001b[0m\u001b[0m\n\u001b[0m\u001b[1;32m     31\u001b[0m \u001b[0;34m\u001b[0m\u001b[0m\n\u001b[1;32m     32\u001b[0m     \u001b[0maggregator\u001b[0m\u001b[0;34m.\u001b[0m\u001b[0mmix\u001b[0m\u001b[0;34m(\u001b[0m\u001b[0;34m)\u001b[0m\u001b[0;34m\u001b[0m\u001b[0;34m\u001b[0m\u001b[0m\n",
      "\u001b[0;32m~/FedEM/client.py\u001b[0m in \u001b[0;36massign_advdataset\u001b[0;34m(self)\u001b[0m\n\u001b[1;32m    369\u001b[0m \u001b[0;34m\u001b[0m\u001b[0m\n\u001b[1;32m    370\u001b[0m         \u001b[0;31m# adversarial datasets loop, adjust normed and push\u001b[0m\u001b[0;34m\u001b[0m\u001b[0;34m\u001b[0m\u001b[0;34m\u001b[0m\u001b[0m\n\u001b[0;32m--> 371\u001b[0;31m         \u001b[0msample_id\u001b[0m\u001b[0;34m,\u001b[0m \u001b[0mx_adv\u001b[0m \u001b[0;34m=\u001b[0m \u001b[0mself\u001b[0m\u001b[0;34m.\u001b[0m\u001b[0mgenerate_adversarial_data\u001b[0m\u001b[0;34m(\u001b[0m\u001b[0;34m)\u001b[0m\u001b[0;34m\u001b[0m\u001b[0;34m\u001b[0m\u001b[0m\n\u001b[0m\u001b[1;32m    372\u001b[0m \u001b[0;34m\u001b[0m\u001b[0m\n\u001b[1;32m    373\u001b[0m         \u001b[0;32mfor\u001b[0m \u001b[0mi\u001b[0m \u001b[0;32min\u001b[0m \u001b[0mrange\u001b[0m\u001b[0;34m(\u001b[0m\u001b[0msample_id\u001b[0m\u001b[0;34m.\u001b[0m\u001b[0mshape\u001b[0m\u001b[0;34m[\u001b[0m\u001b[0;36m0\u001b[0m\u001b[0;34m]\u001b[0m\u001b[0;34m)\u001b[0m\u001b[0;34m:\u001b[0m\u001b[0;34m\u001b[0m\u001b[0;34m\u001b[0m\u001b[0m\n",
      "\u001b[0;32m~/FedEM/client.py\u001b[0m in \u001b[0;36mgenerate_adversarial_data\u001b[0;34m(self)\u001b[0m\n\u001b[1;32m    357\u001b[0m         \u001b[0my_data\u001b[0m \u001b[0;34m=\u001b[0m \u001b[0mself\u001b[0m\u001b[0;34m.\u001b[0m\u001b[0madv_nn\u001b[0m\u001b[0;34m.\u001b[0m\u001b[0mdataloader\u001b[0m\u001b[0;34m.\u001b[0m\u001b[0my_data\u001b[0m\u001b[0;34m[\u001b[0m\u001b[0msample\u001b[0m\u001b[0;34m]\u001b[0m\u001b[0;34m\u001b[0m\u001b[0;34m\u001b[0m\u001b[0m\n\u001b[1;32m    358\u001b[0m \u001b[0;34m\u001b[0m\u001b[0m\n\u001b[0;32m--> 359\u001b[0;31m         \u001b[0mself\u001b[0m\u001b[0;34m.\u001b[0m\u001b[0madv_nn\u001b[0m\u001b[0;34m.\u001b[0m\u001b[0mpgd_sub\u001b[0m\u001b[0;34m(\u001b[0m\u001b[0mself\u001b[0m\u001b[0;34m.\u001b[0m\u001b[0matk_params\u001b[0m\u001b[0;34m,\u001b[0m \u001b[0mx_data\u001b[0m\u001b[0;34m.\u001b[0m\u001b[0mcuda\u001b[0m\u001b[0;34m(\u001b[0m\u001b[0;34m)\u001b[0m\u001b[0;34m,\u001b[0m \u001b[0my_data\u001b[0m\u001b[0;34m.\u001b[0m\u001b[0mcuda\u001b[0m\u001b[0;34m(\u001b[0m\u001b[0;34m)\u001b[0m\u001b[0;34m)\u001b[0m\u001b[0;34m\u001b[0m\u001b[0;34m\u001b[0m\u001b[0m\n\u001b[0m\u001b[1;32m    360\u001b[0m         \u001b[0mx_adv\u001b[0m \u001b[0;34m=\u001b[0m \u001b[0mself\u001b[0m\u001b[0;34m.\u001b[0m\u001b[0madv_nn\u001b[0m\u001b[0;34m.\u001b[0m\u001b[0mx_adv\u001b[0m\u001b[0;34m\u001b[0m\u001b[0;34m\u001b[0m\u001b[0m\n\u001b[1;32m    361\u001b[0m \u001b[0;34m\u001b[0m\u001b[0m\n",
      "\u001b[0;32m~/FedEM/transfer_attacks/Personalized_NN.py\u001b[0m in \u001b[0;36mpgd_sub\u001b[0;34m(self, atk_params, x_in, y_in, x_base)\u001b[0m\n\u001b[1;32m    247\u001b[0m                 \u001b[0mcost\u001b[0m \u001b[0;34m=\u001b[0m \u001b[0;34m-\u001b[0m\u001b[0mself\u001b[0m\u001b[0;34m.\u001b[0m\u001b[0mcriterion\u001b[0m\u001b[0;34m(\u001b[0m\u001b[0mh_adv\u001b[0m\u001b[0;34m,\u001b[0m \u001b[0mself\u001b[0m\u001b[0;34m.\u001b[0m\u001b[0my_orig\u001b[0m\u001b[0;34m)\u001b[0m\u001b[0;34m\u001b[0m\u001b[0;34m\u001b[0m\u001b[0m\n\u001b[1;32m    248\u001b[0m \u001b[0;34m\u001b[0m\u001b[0m\n\u001b[0;32m--> 249\u001b[0;31m             \u001b[0mself\u001b[0m\u001b[0;34m.\u001b[0m\u001b[0mzero_grad\u001b[0m\u001b[0;34m(\u001b[0m\u001b[0;34m)\u001b[0m\u001b[0;34m\u001b[0m\u001b[0;34m\u001b[0m\u001b[0m\n\u001b[0m\u001b[1;32m    250\u001b[0m \u001b[0;34m\u001b[0m\u001b[0m\n\u001b[1;32m    251\u001b[0m             \u001b[0;32mif\u001b[0m \u001b[0mself\u001b[0m\u001b[0;34m.\u001b[0m\u001b[0mx_adv\u001b[0m\u001b[0;34m.\u001b[0m\u001b[0mgrad\u001b[0m \u001b[0;32mis\u001b[0m \u001b[0;32mnot\u001b[0m \u001b[0;32mNone\u001b[0m\u001b[0;34m:\u001b[0m\u001b[0;34m\u001b[0m\u001b[0;34m\u001b[0m\u001b[0m\n",
      "\u001b[0;32m~/anaconda3/envs/FedEM_env/lib/python3.9/site-packages/torch/nn/modules/module.py\u001b[0m in \u001b[0;36mzero_grad\u001b[0;34m(self, set_to_none)\u001b[0m\n\u001b[1;32m   1338\u001b[0m                     \u001b[0;32melse\u001b[0m\u001b[0;34m:\u001b[0m\u001b[0;34m\u001b[0m\u001b[0;34m\u001b[0m\u001b[0m\n\u001b[1;32m   1339\u001b[0m                         \u001b[0mp\u001b[0m\u001b[0;34m.\u001b[0m\u001b[0mgrad\u001b[0m\u001b[0;34m.\u001b[0m\u001b[0mrequires_grad_\u001b[0m\u001b[0;34m(\u001b[0m\u001b[0;32mFalse\u001b[0m\u001b[0;34m)\u001b[0m\u001b[0;34m\u001b[0m\u001b[0;34m\u001b[0m\u001b[0m\n\u001b[0;32m-> 1340\u001b[0;31m                     \u001b[0mp\u001b[0m\u001b[0;34m.\u001b[0m\u001b[0mgrad\u001b[0m\u001b[0;34m.\u001b[0m\u001b[0mzero_\u001b[0m\u001b[0;34m(\u001b[0m\u001b[0;34m)\u001b[0m\u001b[0;34m\u001b[0m\u001b[0;34m\u001b[0m\u001b[0m\n\u001b[0m\u001b[1;32m   1341\u001b[0m \u001b[0;34m\u001b[0m\u001b[0m\n\u001b[1;32m   1342\u001b[0m     \u001b[0;32mdef\u001b[0m \u001b[0mshare_memory\u001b[0m\u001b[0;34m(\u001b[0m\u001b[0mself\u001b[0m\u001b[0;34m:\u001b[0m \u001b[0mT\u001b[0m\u001b[0;34m)\u001b[0m \u001b[0;34m->\u001b[0m \u001b[0mT\u001b[0m\u001b[0;34m:\u001b[0m\u001b[0;34m\u001b[0m\u001b[0;34m\u001b[0m\u001b[0m\n",
      "\u001b[0;31mKeyboardInterrupt\u001b[0m: "
     ]
    }
   ],
   "source": [
    "# Train the model\n",
    "print(\"Training..\")\n",
    "pbar = tqdm(total=args_.n_rounds)\n",
    "current_round = 0\n",
    "while current_round <= args_.n_rounds:\n",
    "\n",
    "    # If statement catching every Q rounds -- update dataset\n",
    "    if  current_round%Q == 0: # current_round != 0 and\n",
    "        print(\"Round:\", current_round, \"Calculation Adv\")\n",
    "        # Obtaining hypothesis information\n",
    "        Whu = np.zeros([num_clients,num_h]) # Hypothesis weight for each user\n",
    "        for i in range(len(clients)):\n",
    "            # print(\"client\", i)\n",
    "            temp_client = aggregator.clients[i]\n",
    "            hyp_weights = temp_client.learners_ensemble.learners_weights\n",
    "            Whu[i] = hyp_weights\n",
    "\n",
    "        row_sums = Whu.sum(axis=1)\n",
    "        Whu = Whu / row_sums[:, np.newaxis]\n",
    "        Wh = np.sum(Whu,axis=0)/num_clients\n",
    "\n",
    "        # Solve for adversarial ratio at every client\n",
    "        Fu = solve_proportions(G, num_clients, num_h, Du, Whu, S, Ru, step_size)\n",
    "\n",
    "        # Assign proportion and attack params\n",
    "        # Assign proportion and compute new dataset\n",
    "        for i in range(len(clients)):\n",
    "            aggregator.clients[i].set_adv_params(Fu[i], atk_params)\n",
    "            aggregator.clients[i].update_advnn()\n",
    "            aggregator.clients[i].assign_advdataset()\n",
    "\n",
    "    aggregator.mix()\n",
    "\n",
    "    if aggregator.c_round != current_round:\n",
    "        pbar.update(1)\n",
    "        current_round = aggregator.c_round"
   ]
  },
  {
   "cell_type": "code",
   "execution_count": 14,
   "metadata": {},
   "outputs": [
    {
     "data": {
      "text/plain": [
       "array([0.34468773, 0.2133766 , 0.51      , 0.46144176, 0.34613134,\n",
       "       0.51      , 0.51      , 0.51      , 0.51      , 0.46828686,\n",
       "       0.42820397, 0.51      , 0.51      , 0.51      , 0.51      ,\n",
       "       0.51      , 0.51      , 0.39600709, 0.51      , 0.51      ,\n",
       "       0.51      , 0.45382132, 0.51      , 0.4492753 , 0.51      ,\n",
       "       0.41949363, 0.2650161 , 0.37923982, 0.49749974, 0.27260785,\n",
       "       0.46606647, 0.20425306, 0.51      , 0.51      , 0.51      ,\n",
       "       0.46925899, 0.47293463, 0.51      , 0.51      , 0.51      ])"
      ]
     },
     "execution_count": 14,
     "metadata": {},
     "output_type": "execute_result"
    }
   ],
   "source": [
    "Fu"
   ]
  },
  {
   "cell_type": "code",
   "execution_count": 12,
   "metadata": {},
   "outputs": [
    {
     "data": {
      "text/plain": [
       "array([0.34468773, 0.2133766 , 0.59060121, 0.46144176, 0.34613134,\n",
       "       0.6316171 , 0.59091473, 0.61940604, 0.5276325 , 0.46828686,\n",
       "       0.42820397, 0.60665422, 0.76395935, 0.55469548, 0.7876177 ,\n",
       "       0.62082463, 0.52615043, 0.39600709, 0.73623018, 0.53855584,\n",
       "       0.62927148, 0.45382132, 0.6573649 , 0.4492753 , 0.78654296,\n",
       "       0.41949363, 0.2650161 , 0.37923982, 0.49749974, 0.27260785,\n",
       "       0.46606647, 0.20425306, 0.71174091, 0.52123709, 0.63291406,\n",
       "       0.46925899, 0.47293463, 0.76532351, 0.63200149, 0.76032822])"
      ]
     },
     "execution_count": 12,
     "metadata": {},
     "output_type": "execute_result"
    }
   ],
   "source": [
    "Ru"
   ]
  },
  {
   "cell_type": "code",
   "execution_count": 17,
   "metadata": {},
   "outputs": [
    {
     "data": {
      "text/plain": [
       "array([0.33333333, 0.33333333, 0.33333333])"
      ]
     },
     "execution_count": 17,
     "metadata": {},
     "output_type": "execute_result"
    }
   ],
   "source": [
    "Wh"
   ]
  },
  {
   "cell_type": "code",
   "execution_count": 4,
   "metadata": {},
   "outputs": [],
   "source": [
    "import numba\n"
   ]
  },
  {
   "cell_type": "code",
   "execution_count": 5,
   "metadata": {},
   "outputs": [],
   "source": [
    "device = numba.cuda.get_current_device()"
   ]
  },
  {
   "cell_type": "code",
   "execution_count": 6,
   "metadata": {},
   "outputs": [
    {
     "data": {
      "text/plain": [
       "<weakproxy at 0x7f2d8749cf40 to Device at 0x7f2d88ec17f0>"
      ]
     },
     "execution_count": 6,
     "metadata": {},
     "output_type": "execute_result"
    }
   ],
   "source": [
    "device"
   ]
  },
  {
   "cell_type": "code",
   "execution_count": 7,
   "metadata": {},
   "outputs": [],
   "source": [
    "device.reset()"
   ]
  },
  {
   "cell_type": "code",
   "execution_count": 8,
   "metadata": {},
   "outputs": [
    {
     "data": {
      "text/plain": [
       "<weakproxy at 0x7f2d8749cf40 to Device at 0x7f2d88ec17f0>"
      ]
     },
     "execution_count": 8,
     "metadata": {},
     "output_type": "execute_result"
    }
   ],
   "source": [
    "device"
   ]
  },
  {
   "cell_type": "code",
   "execution_count": 12,
   "metadata": {},
   "outputs": [],
   "source": [
    "x = 5\n",
    "y = 3"
   ]
  },
  {
   "cell_type": "code",
   "execution_count": 13,
   "metadata": {},
   "outputs": [],
   "source": [
    "del x, y"
   ]
  },
  {
   "cell_type": "code",
   "execution_count": 15,
   "metadata": {},
   "outputs": [
    {
     "ename": "NameError",
     "evalue": "name 'x' is not defined",
     "output_type": "error",
     "traceback": [
      "\u001b[0;31m---------------------------------------------------------------------------\u001b[0m",
      "\u001b[0;31mNameError\u001b[0m                                 Traceback (most recent call last)",
      "\u001b[0;32m/tmp/ipykernel_710705/32546335.py\u001b[0m in \u001b[0;36m<module>\u001b[0;34m\u001b[0m\n\u001b[0;32m----> 1\u001b[0;31m \u001b[0mx\u001b[0m\u001b[0;34m\u001b[0m\u001b[0;34m\u001b[0m\u001b[0m\n\u001b[0m",
      "\u001b[0;31mNameError\u001b[0m: name 'x' is not defined"
     ]
    }
   ],
   "source": [
    "x"
   ]
  },
  {
   "cell_type": "code",
   "execution_count": null,
   "metadata": {},
   "outputs": [],
   "source": []
  }
 ],
 "metadata": {
  "kernelspec": {
   "display_name": "FedEM_env",
   "language": "python",
   "name": "fedem_env"
  },
  "language_info": {
   "codemirror_mode": {
    "name": "ipython",
    "version": 3
   },
   "file_extension": ".py",
   "mimetype": "text/x-python",
   "name": "python",
   "nbconvert_exporter": "python",
   "pygments_lexer": "ipython3",
   "version": "3.9.6"
  }
 },
 "nbformat": 4,
 "nbformat_minor": 4
}
