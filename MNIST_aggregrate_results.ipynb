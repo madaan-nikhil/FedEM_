{
 "cells": [
  {
   "cell_type": "code",
   "execution_count": 1,
   "id": "fdd5bc46",
   "metadata": {},
   "outputs": [],
   "source": [
    "import numpy as np"
   ]
  },
  {
   "cell_type": "code",
   "execution_count": 2,
   "id": "b201a5b9",
   "metadata": {},
   "outputs": [],
   "source": [
    "def avg_nondiag(array2d):\n",
    "    d1 = array2d.shape[0]\n",
    "    d2 = array2d.shape[1]\n",
    "    \n",
    "    counter = 0\n",
    "    val = 0\n",
    "    \n",
    "    for i1 in range(d1):\n",
    "        for i2 in range(d2):\n",
    "            if i1 != i2:\n",
    "                counter+=1\n",
    "                val += array2d[i1,i2]\n",
    "    \n",
    "    return val/counter"
   ]
  },
  {
   "cell_type": "markdown",
   "id": "12a05137",
   "metadata": {},
   "source": [
    "## Benign Local"
   ]
  },
  {
   "cell_type": "code",
   "execution_count": 3,
   "id": "146ec9e6",
   "metadata": {},
   "outputs": [
    {
     "name": "stdout",
     "output_type": "stream",
     "text": [
      "adv_target: 0.043614715937441456\n",
      "adv_miss: 0.6650192941371829\n",
      "orig_acc: 0.9209570273756981\n"
     ]
    }
   ],
   "source": [
    "adv_target = np.load('results/benign/local_adv_target.npy',allow_pickle=True)\n",
    "adv_miss = np.load('results/benign/local_adv_miss.npy',allow_pickle=True)\n",
    "orig_acc = np.load('results/benign/local_orig_acc_transfers.npy',allow_pickle=True)\n",
    "\n",
    "print('adv_target:', avg_nondiag(adv_target))\n",
    "print('adv_miss:', avg_nondiag(adv_miss))\n",
    "print('orig_acc:', np.mean(np.diagonal(orig_acc)))"
   ]
  },
  {
   "cell_type": "code",
   "execution_count": 4,
   "id": "8843bc64",
   "metadata": {},
   "outputs": [
    {
     "name": "stdout",
     "output_type": "stream",
     "text": [
      "legit distance: 15.178000000000003\n",
      "adv distance: 37.72975\n",
      "ensemble_adv distance: 20.087500000000002\n"
     ]
    }
   ],
   "source": [
    "legit = np.load('results/benign/local_dist_legit.npy',allow_pickle=True)\n",
    "adv = np.load('results/benign/local_dist_adv.npy',allow_pickle=True)\n",
    "ensemble_adv = np.load('results/benign/local_dist_adv_ensemble.npy',allow_pickle=True)\n",
    "\n",
    "print('legit distance:', np.mean(legit))\n",
    "print('adv distance:', np.mean(adv))\n",
    "print('ensemble_adv distance:', np.mean(ensemble_adv))"
   ]
  },
  {
   "cell_type": "code",
   "execution_count": 5,
   "id": "5a9c90e1",
   "metadata": {},
   "outputs": [
    {
     "name": "stdout",
     "output_type": "stream",
     "text": [
      "adv_target: 0.03860873335248066\n",
      "adv_miss: 0.636905175116327\n",
      "orig_acc: 0.8849800646305084\n"
     ]
    }
   ],
   "source": [
    "# Blackbox\n",
    "adv_target = np.load('results/benign/local_blackbox_adv_target.npy',allow_pickle=True)\n",
    "adv_miss = np.load('results/benign/local_blackbox_adv_miss.npy',allow_pickle=True)\n",
    "orig_acc = np.load('results/benign/local_blackbox_orig_acc_transfers.npy',allow_pickle=True)\n",
    "\n",
    "print('adv_target:', avg_nondiag(adv_target))\n",
    "print('adv_miss:', avg_nondiag(adv_miss))\n",
    "print('orig_acc:', np.mean(np.diagonal(orig_acc)))"
   ]
  },
  {
   "cell_type": "markdown",
   "id": "4969afc4",
   "metadata": {},
   "source": [
    "## Benign FedAvg"
   ]
  },
  {
   "cell_type": "code",
   "execution_count": 6,
   "id": "d343f7ee",
   "metadata": {},
   "outputs": [
    {
     "name": "stdout",
     "output_type": "stream",
     "text": [
      "adv_target: 0.004468640423147008\n",
      "adv_miss: 0.9674685373902321\n",
      "orig_acc: 0.983550702035427\n"
     ]
    }
   ],
   "source": [
    "adv_target = np.load('results/benign/FedAvg_adv_target.npy',allow_pickle=True)\n",
    "adv_miss = np.load('results/benign/FedAvg_adv_miss.npy',allow_pickle=True)\n",
    "orig_acc = np.load('results/benign/FedAvg_orig_acc_transfers.npy',allow_pickle=True)\n",
    "\n",
    "print('adv_target:', avg_nondiag(adv_target))\n",
    "print('adv_miss:', avg_nondiag(adv_miss))\n",
    "print('orig_acc:', np.mean(np.diagonal(orig_acc)))"
   ]
  },
  {
   "cell_type": "code",
   "execution_count": 7,
   "id": "872342d8",
   "metadata": {},
   "outputs": [
    {
     "name": "stdout",
     "output_type": "stream",
     "text": [
      "legit distance: 0.0\n",
      "adv distance: 14.912\n",
      "ensemble_adv distance: 12.33\n"
     ]
    }
   ],
   "source": [
    "legit = np.load('results/benign/FedAvg_dist_legit.npy',allow_pickle=True)\n",
    "adv = np.load('results/benign/FedAvg_dist_adv.npy',allow_pickle=True)\n",
    "ensemble_adv = np.load('results/benign/FedAvg_dist_adv_ensemble.npy',allow_pickle=True)\n",
    "\n",
    "print('legit distance:', np.mean(legit))\n",
    "print('adv distance:', np.mean(adv))\n",
    "print('ensemble_adv distance:', np.mean(ensemble_adv))"
   ]
  },
  {
   "cell_type": "code",
   "execution_count": 8,
   "id": "3c9db774",
   "metadata": {},
   "outputs": [
    {
     "name": "stdout",
     "output_type": "stream",
     "text": [
      "adv_target: 0.0035486248787492515\n",
      "adv_miss: 0.9568844854831695\n",
      "orig_acc: 0.9805330336093903\n"
     ]
    }
   ],
   "source": [
    "#blackbox\n",
    "adv_target = np.load('results/benign/FedAvg_blackbox_adv_target.npy',allow_pickle=True)\n",
    "adv_miss = np.load('results/benign/FedAvg_blackbox_adv_miss.npy',allow_pickle=True)\n",
    "orig_acc = np.load('results/benign/FedAvg_blackbox_orig_acc_transfers.npy',allow_pickle=True)\n",
    "\n",
    "print('adv_target:', avg_nondiag(adv_target))\n",
    "print('adv_miss:', avg_nondiag(adv_miss))\n",
    "print('orig_acc:', np.mean(np.diagonal(orig_acc)))"
   ]
  },
  {
   "cell_type": "markdown",
   "id": "14ba3727",
   "metadata": {},
   "source": [
    "## Benign FedEM"
   ]
  },
  {
   "cell_type": "code",
   "execution_count": 9,
   "id": "c5a5cbd9",
   "metadata": {
    "scrolled": true
   },
   "outputs": [
    {
     "name": "stdout",
     "output_type": "stream",
     "text": [
      "adv_target: 0.006277051960410646\n",
      "adv_miss: 0.9232706123819718\n",
      "orig_acc: 0.9627895101904869\n"
     ]
    }
   ],
   "source": [
    "adv_target = np.load('results/benign/FedEM_adv_target.npy',allow_pickle=True)\n",
    "adv_miss = np.load('results/benign/FedEM_adv_miss.npy',allow_pickle=True)\n",
    "orig_acc = np.load('results/benign/FedEM_orig_acc_transfers.npy',allow_pickle=True)\n",
    "\n",
    "print('adv_target:', avg_nondiag(adv_target))\n",
    "print('adv_miss:', avg_nondiag(adv_miss))\n",
    "print('orig_acc:', np.mean(np.diagonal(orig_acc)))"
   ]
  },
  {
   "cell_type": "code",
   "execution_count": 10,
   "id": "0654421b",
   "metadata": {},
   "outputs": [
    {
     "name": "stdout",
     "output_type": "stream",
     "text": [
      "legit distance: 3.57625\n",
      "adv distance: 21.502250000000004\n",
      "ensemble_adv distance: 15.609500000000002\n"
     ]
    }
   ],
   "source": [
    "legit = np.load('results/benign/FedEM_dist_legit.npy',allow_pickle=True)\n",
    "adv = np.load('results/benign/FedEM_dist_adv.npy',allow_pickle=True)\n",
    "ensemble_adv = np.load('results/benign/FedEM_dist_adv_ensemble.npy',allow_pickle=True)\n",
    "\n",
    "print('legit distance:', np.mean(legit))\n",
    "print('adv distance:', np.mean(adv))\n",
    "print('ensemble_adv distance:', np.mean(ensemble_adv))"
   ]
  },
  {
   "cell_type": "code",
   "execution_count": 11,
   "id": "15090e8a",
   "metadata": {},
   "outputs": [
    {
     "name": "stdout",
     "output_type": "stream",
     "text": [
      "adv_target: 0.0124438866507262\n",
      "adv_miss: 0.8935552179813385\n",
      "orig_acc: 0.9589283049106598\n"
     ]
    }
   ],
   "source": [
    "#blackbox\n",
    "adv_target = np.load('results/benign/FedEM_blackbox_adv_target.npy',allow_pickle=True)\n",
    "adv_miss = np.load('results/benign/FedEM_blackbox_adv_miss.npy',allow_pickle=True)\n",
    "orig_acc = np.load('results/benign/FedEM_blackbox_orig_acc_transfers.npy',allow_pickle=True)\n",
    "\n",
    "print('adv_target:', avg_nondiag(adv_target))\n",
    "print('adv_miss:', avg_nondiag(adv_miss))\n",
    "print('orig_acc:', np.mean(np.diagonal(orig_acc)))"
   ]
  },
  {
   "cell_type": "markdown",
   "id": "d5c3ef25",
   "metadata": {},
   "source": [
    "## Adv local"
   ]
  },
  {
   "cell_type": "code",
   "execution_count": 12,
   "id": "34c303da",
   "metadata": {
    "scrolled": true
   },
   "outputs": [
    {
     "name": "stdout",
     "output_type": "stream",
     "text": [
      "adv_target: 0.03894136667562028\n",
      "adv_miss: 0.680879059392147\n",
      "orig_acc: 0.9210302501916885\n"
     ]
    }
   ],
   "source": [
    "adv_target = np.load('results/adv/local_adv_target.npy',allow_pickle=True)\n",
    "adv_miss = np.load('results/adv/local_adv_miss.npy',allow_pickle=True)\n",
    "orig_acc = np.load('results/adv/local_orig_acc_transfers.npy',allow_pickle=True)\n",
    "\n",
    "print('adv_target:', avg_nondiag(adv_target))\n",
    "print('adv_miss:', avg_nondiag(adv_miss))\n",
    "print('orig_acc:', np.mean(np.diagonal(orig_acc)))"
   ]
  },
  {
   "cell_type": "code",
   "execution_count": 13,
   "id": "fcb6dea0",
   "metadata": {},
   "outputs": [
    {
     "name": "stdout",
     "output_type": "stream",
     "text": [
      "legit distance: 14.0975\n",
      "adv distance: 25.12375\n",
      "ensemble_adv distance: 12.7995\n"
     ]
    }
   ],
   "source": [
    "legit = np.load('results/adv/local_dist_legit.npy',allow_pickle=True)\n",
    "adv = np.load('results/adv/local_dist_adv.npy',allow_pickle=True)\n",
    "ensemble_adv = np.load('results/adv/local_dist_adv_ensemble.npy',allow_pickle=True)\n",
    "\n",
    "print('legit distance:', np.mean(legit))\n",
    "print('adv distance:', np.mean(adv))\n",
    "print('ensemble_adv distance:', np.mean(ensemble_adv))"
   ]
  },
  {
   "cell_type": "code",
   "execution_count": 14,
   "id": "5af56764",
   "metadata": {},
   "outputs": [
    {
     "name": "stdout",
     "output_type": "stream",
     "text": [
      "adv_target: 0.033262314119686685\n",
      "adv_miss: 0.6541237263629834\n",
      "orig_acc: 0.8466676056385041\n"
     ]
    }
   ],
   "source": [
    "#blackbox\n",
    "adv_target = np.load('results/adv/local_blackbox_adv_target.npy',allow_pickle=True)\n",
    "adv_miss = np.load('results/adv/local_blackbox_adv_miss.npy',allow_pickle=True)\n",
    "orig_acc = np.load('results/adv/local_blackbox_orig_acc_transfers.npy',allow_pickle=True)\n",
    "\n",
    "print('adv_target:', avg_nondiag(adv_target))\n",
    "print('adv_miss:', avg_nondiag(adv_miss))\n",
    "print('orig_acc:', np.mean(np.diagonal(orig_acc)))"
   ]
  },
  {
   "cell_type": "markdown",
   "id": "7304241e",
   "metadata": {},
   "source": [
    "## Adv FedAvg"
   ]
  },
  {
   "cell_type": "code",
   "execution_count": 15,
   "id": "65b8af63",
   "metadata": {
    "scrolled": true
   },
   "outputs": [
    {
     "name": "stdout",
     "output_type": "stream",
     "text": [
      "adv_target: 0.006009736703708768\n",
      "adv_miss: 0.9602813273668289\n",
      "orig_acc: 0.9766581028699874\n"
     ]
    }
   ],
   "source": [
    "adv_target = np.load('results/adv/FedAvg_adv_target.npy',allow_pickle=True)\n",
    "adv_miss = np.load('results/adv/FedAvg_adv_miss.npy',allow_pickle=True)\n",
    "orig_acc = np.load('results/adv/FedAvg_orig_acc_transfers.npy',allow_pickle=True)\n",
    "\n",
    "print('adv_target:', avg_nondiag(adv_target))\n",
    "print('adv_miss:', avg_nondiag(adv_miss))\n",
    "print('orig_acc:', np.mean(np.diagonal(orig_acc)))"
   ]
  },
  {
   "cell_type": "code",
   "execution_count": 16,
   "id": "f6cc6ccc",
   "metadata": {},
   "outputs": [
    {
     "name": "stdout",
     "output_type": "stream",
     "text": [
      "legit distance: 0.0\n",
      "adv distance: 15.208000000000002\n",
      "ensemble_adv distance: 13.188000000000002\n"
     ]
    }
   ],
   "source": [
    "legit = np.load('results/adv/FedAvg_dist_legit.npy',allow_pickle=True)\n",
    "adv = np.load('results/adv/FedAvg_dist_adv.npy',allow_pickle=True)\n",
    "ensemble_adv = np.load('results/adv/FedAvg_dist_adv_ensemble.npy',allow_pickle=True)\n",
    "\n",
    "print('legit distance:', np.mean(legit))\n",
    "print('adv distance:', np.mean(adv))\n",
    "print('ensemble_adv distance:', np.mean(ensemble_adv))"
   ]
  },
  {
   "cell_type": "code",
   "execution_count": 17,
   "id": "8d2d0301",
   "metadata": {},
   "outputs": [
    {
     "name": "stdout",
     "output_type": "stream",
     "text": [
      "adv_target: 0.004178475448861718\n",
      "adv_miss: 0.949809980392456\n",
      "orig_acc: 0.9765819251537323\n"
     ]
    }
   ],
   "source": [
    "#blackbox\n",
    "adv_target = np.load('results/adv/FedAvg_blackbox_adv_target.npy',allow_pickle=True)\n",
    "adv_miss = np.load('results/adv/FedAvg_blackbox_adv_miss.npy',allow_pickle=True)\n",
    "orig_acc = np.load('results/adv/FedAvg_blackbox_orig_acc_transfers.npy',allow_pickle=True)\n",
    "\n",
    "print('adv_target:', avg_nondiag(adv_target))\n",
    "print('adv_miss:', avg_nondiag(adv_miss))\n",
    "print('orig_acc:', np.mean(np.diagonal(orig_acc)))"
   ]
  },
  {
   "cell_type": "markdown",
   "id": "1ef3b27e",
   "metadata": {},
   "source": [
    "## Adv FedEM"
   ]
  },
  {
   "cell_type": "code",
   "execution_count": 18,
   "id": "8600615d",
   "metadata": {
    "scrolled": true
   },
   "outputs": [
    {
     "name": "stdout",
     "output_type": "stream",
     "text": [
      "adv_target: 0.0030833159286815385\n",
      "adv_miss: 0.953384263966328\n",
      "orig_acc: 0.9724410161375999\n"
     ]
    }
   ],
   "source": [
    "adv_target = np.load('results/adv/FedEM_adv_target.npy',allow_pickle=True)\n",
    "adv_miss = np.load('results/adv/FedEM_adv_miss.npy',allow_pickle=True)\n",
    "orig_acc = np.load('results/adv/FedEM_orig_acc_transfers.npy',allow_pickle=True)\n",
    "\n",
    "print('adv_target:', avg_nondiag(adv_target))\n",
    "print('adv_miss:', avg_nondiag(adv_miss))\n",
    "print('orig_acc:', np.mean(np.diagonal(orig_acc)))"
   ]
  },
  {
   "cell_type": "code",
   "execution_count": 19,
   "id": "891ed054",
   "metadata": {},
   "outputs": [
    {
     "name": "stdout",
     "output_type": "stream",
     "text": [
      "legit distance: 0.746\n",
      "adv distance: 17.88175\n",
      "ensemble_adv distance: 15.341750000000001\n"
     ]
    }
   ],
   "source": [
    "legit = np.load('results/adv/FedEM_dist_legit.npy',allow_pickle=True)\n",
    "adv = np.load('results/adv/FedEM_dist_adv.npy',allow_pickle=True)\n",
    "ensemble_adv = np.load('results/adv/FedEM_dist_adv_ensemble.npy',allow_pickle=True)\n",
    "\n",
    "print('legit distance:', np.mean(legit))\n",
    "print('adv distance:', np.mean(adv))\n",
    "print('ensemble_adv distance:', np.mean(ensemble_adv))"
   ]
  },
  {
   "cell_type": "code",
   "execution_count": 20,
   "id": "a1b05196",
   "metadata": {},
   "outputs": [
    {
     "name": "stdout",
     "output_type": "stream",
     "text": [
      "adv_target: 0.0031294422896785867\n",
      "adv_miss: 0.9560467488235898\n",
      "orig_acc: 0.9797614395618439\n"
     ]
    }
   ],
   "source": [
    "#blackbox\n",
    "adv_target = np.load('results/adv/FedEM_blackbox_adv_target.npy',allow_pickle=True)\n",
    "adv_miss = np.load('results/adv/FedEM_blackbox_adv_miss.npy',allow_pickle=True)\n",
    "orig_acc = np.load('results/adv/FedEM_blackbox_orig_acc_transfers.npy',allow_pickle=True)\n",
    "\n",
    "print('adv_target:', avg_nondiag(adv_target))\n",
    "print('adv_miss:', avg_nondiag(adv_miss))\n",
    "print('orig_acc:', np.mean(np.diagonal(orig_acc)))"
   ]
  }
 ],
 "metadata": {
  "kernelspec": {
   "display_name": "Python 3",
   "language": "python",
   "name": "python3"
  },
  "language_info": {
   "codemirror_mode": {
    "name": "ipython",
    "version": 3
   },
   "file_extension": ".py",
   "mimetype": "text/x-python",
   "name": "python",
   "nbconvert_exporter": "python",
   "pygments_lexer": "ipython3",
   "version": "3.8.8"
  }
 },
 "nbformat": 4,
 "nbformat_minor": 5
}
