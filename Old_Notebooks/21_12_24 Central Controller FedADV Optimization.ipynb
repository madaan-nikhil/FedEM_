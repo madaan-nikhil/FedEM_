{
 "cells": [
  {
   "cell_type": "markdown",
   "metadata": {},
   "source": [
    "# Central Controller FedADV Optimization\n",
    "\n",
    "TJ Kim\n",
    "\n",
    "12.24.21\n",
    "\n",
    "#### Summary:\n",
    "- Central controller solves for proportion of adv datapoint for each of the users FedEM Case\n",
    "- Respects the resource constraints (proportion) of each of the nodes \n",
    "- Minimizes objective: Closest to proportion for each of the hypotheses scaled by datapoints"
   ]
  },
  {
   "cell_type": "code",
   "execution_count": 1,
   "metadata": {},
   "outputs": [],
   "source": [
    "import numpy as np\n",
    "import copy"
   ]
  },
  {
   "cell_type": "code",
   "execution_count": 2,
   "metadata": {},
   "outputs": [],
   "source": [
    "# Argument inputs\n",
    "G = 0.4 # total desired proportion\n",
    "N = 30 # Number of users \n",
    "num_h = 3\n",
    "Du = np.random.randint(low=50,high=400,size=N) # Dataset size of each user\n",
    "D = np.sum(Du) # Total number of data points\n",
    "\n",
    "# Hypothesis weights of each user\n",
    "Whu = np.random.uniform(low=0.0, high=1, size=[N,num_h]) # Hypothesis weight for each user\n",
    "row_sums = Whu.sum(axis=1)\n",
    "Whu = Whu / row_sums[:, np.newaxis]\n",
    "Wh = np.sum(Whu,axis=0)/N\n",
    "\n",
    "S = 0.01 # Threshold\n",
    "Ru = np.random.uniform(low=0.0, high=1, size=N) # Resource constraint per user\n",
    "step_size = 0.01"
   ]
  },
  {
   "cell_type": "code",
   "execution_count": 3,
   "metadata": {},
   "outputs": [],
   "source": [
    "# Solve for Fu for all users\n",
    "def solve_proportions(G, N, num_h, Du, Whu, S, Ru, step_size):\n",
    "    \"\"\"\n",
    "    Inputs:\n",
    "    - G - Desired proportion of adv data points\n",
    "    - N - Number of users in the system\n",
    "    - num_h - Number of mixtures/hypotheses (FedEM)\n",
    "    - Du - Number of data points at user U\n",
    "    - Whu - Weight of each hypothis at user U\n",
    "    - S - Threshold for objective function to fall below\n",
    "    - Ru - Resource limits at each user (proportion)\n",
    "    - step_size - For sweeping Fu\n",
    "    Output:\n",
    "    - Fu - proportion of adv data for each client\n",
    "    \"\"\"\n",
    "    \n",
    "    # finalize information needed to solve problem\n",
    "    Wh = np.sum(Whu,axis=0)/N\n",
    "    D = np.sum(Du)\n",
    "\n",
    "    Fu = np.ones_like(Ru) * G\n",
    "\n",
    "    # Step 1. Initial filter out all users with less resource constraints\n",
    "    A = np.where(Fu>Ru)[0]\n",
    "    B = np.where(Fu<Ru)[0]\n",
    "    Fu[A] = Ru[A]\n",
    "\n",
    "    # Step 2. Select users at random and change proportion, check objective \n",
    "    np.random.shuffle(B)\n",
    "    for i in B:\n",
    "        curr_obj = calc_prop_objective(G, num_h, Du, Whu, Fu)\n",
    "        while Fu[i] + step_size < Ru[i]:\n",
    "            Fu_temp = copy.deepcopy(Fu)\n",
    "            Fu_temp[i] = Fu[i] + step_size\n",
    "            new_obj = calc_prop_objective(G, num_h, Du, Whu, Fu_temp)\n",
    "            if new_obj <= S:\n",
    "                Fu = Fu_temp\n",
    "                break\n",
    "            elif new_obj < curr_obj:\n",
    "                Fu = Fu_temp\n",
    "                curr_obj = new_obj\n",
    "            else: break\n",
    "                \n",
    "    return Fu\n",
    "\n",
    "def calc_prop_objective(G, num_h, Du, Whu, Fu):\n",
    "# Calculate objective function value for attaining global adv data proportion\n",
    "    obj = 0\n",
    "    D = np.sum(Du)\n",
    "    for n in range(num_h):    \n",
    "        obj += np.abs(np.sum(Fu * Du * Whu[:,n])- G * D * Wh[n]) * 1/D\n",
    "    return obj"
   ]
  },
  {
   "cell_type": "code",
   "execution_count": 5,
   "metadata": {},
   "outputs": [],
   "source": [
    "Fu = solve_proportions(G, N, num_h, Du, Whu, S, Ru, step_size)"
   ]
  },
  {
   "cell_type": "code",
   "execution_count": 10,
   "metadata": {},
   "outputs": [
    {
     "data": {
      "text/plain": [
       "array([0.41      , 0.55      , 0.5       , 0.41      , 0.1593135 ,\n",
       "       0.41      , 0.4       , 0.1857959 , 0.41      , 0.87      ,\n",
       "       0.39349449, 0.41      , 0.41      , 0.41      , 0.14608693,\n",
       "       0.02603444, 0.41      , 0.66      , 0.14691094, 0.53      ,\n",
       "       0.41      , 0.97      , 0.00537223, 0.1360616 , 0.41      ,\n",
       "       0.41      , 0.41      , 0.41      , 0.13599737, 0.41      ])"
      ]
     },
     "execution_count": 10,
     "metadata": {},
     "output_type": "execute_result"
    }
   ],
   "source": [
    "Fu"
   ]
  },
  {
   "cell_type": "code",
   "execution_count": 8,
   "metadata": {},
   "outputs": [
    {
     "data": {
      "text/plain": [
       "0.008779971628109739"
      ]
     },
     "execution_count": 8,
     "metadata": {},
     "output_type": "execute_result"
    }
   ],
   "source": [
    "calc_prop_objective(G, num_h, Du, Whu, Fu)"
   ]
  },
  {
   "cell_type": "code",
   "execution_count": null,
   "metadata": {},
   "outputs": [],
   "source": []
  }
 ],
 "metadata": {
  "kernelspec": {
   "display_name": "FedEM_env",
   "language": "python",
   "name": "fedem_env"
  },
  "language_info": {
   "codemirror_mode": {
    "name": "ipython",
    "version": 3
   },
   "file_extension": ".py",
   "mimetype": "text/x-python",
   "name": "python",
   "nbconvert_exporter": "python",
   "pygments_lexer": "ipython3",
   "version": "3.9.6"
  }
 },
 "nbformat": 4,
 "nbformat_minor": 4
}
